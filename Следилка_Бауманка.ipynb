{
 "cells": [
  {
   "cell_type": "markdown",
   "id": "protective-voluntary",
   "metadata": {},
   "source": [
    "Стартовая настроечка не нужна, смотрим всё сразу"
   ]
  },
  {
   "cell_type": "code",
   "execution_count": 1,
   "id": "accomplished-pasta",
   "metadata": {},
   "outputs": [],
   "source": [
    "Persons = {\n",
    "    \"Артем\": {\n",
    "        \"Док\": \"111-111-111 11\",  # СНИЛС\n",
    "        \"Спец\": {\n",
    "            1: {\"ОКСО\": \"09.03.01 (бюджет)\", \"Балл\": 250, \"Места\": 101,\n",
    "                \"Ссылка\": \"https://priem.bmstu.ru/lists/upload/enrollees/first/moscow-1/09.03.01.pdf\"},\n",
    "            2: {\"ОКСО\": \"09.03.03 (бюджет)\", \"Балл\": 250, \"Места\": 84,\n",
    "                \"Ссылка\": \"https://priem.bmstu.ru/lists/upload/enrollees/first/moscow-1/09.03.03.pdf\"},\n",
    "            3: {\"ОКСО\": \"10.05.01 (бюджет)\", \"Балл\": 225, \"Места\": 7,\n",
    "                \"Ссылка\": \"https://priem.bmstu.ru/lists/upload/enrollees/first/moscow-1/10.05.01.pdf\"},\n",
    "            4: {\"ОКСО\": \"09.03.01 (платка)\", \"Балл\": 250, \"Места\": 184,\n",
    "                \"Ссылка\": \"https://priem.bmstu.ru/lists/upload/enrollees/first/moscow-0/09.03.01.pdf\"},\n",
    "            5: {\"ОКСО\": \"09.03.03 (платка)\", \"Балл\": 250, \"Места\": 85,\n",
    "                \"Ссылка\": \"https://priem.bmstu.ru/lists/upload/enrollees/first/moscow-0/09.03.03.pdf\"},\n",
    "            6: {\"ОКСО\": \"10.05.01 (платка)\", \"Балл\": 225, \"Места\": 39,\n",
    "                \"Ссылка\": \"https://priem.bmstu.ru/lists/upload/enrollees/first/moscow-0/10.05.01.pdf\"}\n",
    "        }\n",
    "    },\n",
    "    \"Маша\": {\n",
    "        \"Док\": \"222-222-222 22\",  # СНИЛС\n",
    "        \"Спец\": {\n",
    "            1: {\"ОКСО\": \"01.03.04 (бюджет)\", \"Балл\": 233, \"Места\": 69,\n",
    "                \"Ссылка\": \"https://priem.bmstu.ru/lists/upload/enrollees/first/moscow-1/01.03.04.pdf\"},\n",
    "            2: {\"ОКСО\": \"09.03.01 (бюджет)\", \"Балл\": 233, \"Места\": 101,\n",
    "                \"Ссылка\": \"https://priem.bmstu.ru/lists/upload/enrollees/first/moscow-1/09.03.01.pdf\"},\n",
    "            3: {\"ОКСО\": \"12.03.02 (бюджет)\", \"Балл\": 233, \"Места\": 17,\n",
    "                \"Ссылка\": \"https://priem.bmstu.ru/lists/upload/enrollees/first/moscow-1/12.03.02.pdf\"}\n",
    "        }\n",
    "    }\n",
    "}\n",
    "to_budget = {}\n",
    "# Persons[\"Маша\"][\"Спец\"]"
   ]
  },
  {
   "cell_type": "code",
   "execution_count": 2,
   "id": "julian-anatomy",
   "metadata": {},
   "outputs": [],
   "source": [
    "import pandas as pd\n",
    "import numpy as np\n",
    "import re\n",
    "from tabula import read_pdf # если ошибка, то pip install tabula-py"
   ]
  },
  {
   "cell_type": "markdown",
   "id": "parallel-termination",
   "metadata": {},
   "source": [
    "Парсим все данные по конкурсу на наши специальности"
   ]
  },
  {
   "cell_type": "code",
   "execution_count": 3,
   "id": "strong-techno",
   "metadata": {
    "scrolled": true
   },
   "outputs": [],
   "source": [
    "df_concurs = {}\n",
    "for Person in Persons:\n",
    "    for Spec in Persons[Person][\"Спец\"]:\n",
    "        idx = Person+str(Spec)\n",
    "#         print(idx)\n",
    "        bmstu_path = Persons[Person][\"Спец\"][Spec][\"Ссылка\"]\n",
    "        df = read_pdf(bmstu_path, pages='all')\n",
    "        frames = []\n",
    "        for i in range(len(df)):\n",
    "            first_valid = 0\n",
    "            df_tmp = df[i]\n",
    "            try:\n",
    "                scip_flag = (df[i].loc[0][0] == \"No\" or np.isnan(df[i].loc[0][0]))\n",
    "            except Exception as e:\n",
    "                scip_flag = True\n",
    "        #     print(\"first_item=\", df[i].loc[0][0], \"len_df=\",len(df[i]))\n",
    "            if scip_flag:\n",
    "                for j in range(len(df[i])):\n",
    "                    try:\n",
    "                        if df[i].loc[j][0].isnumeric():\n",
    "                            if first_valid == 0:\n",
    "                                first_valid = j\n",
    "                    except Exception as e:\n",
    "                       str1 = \"we have found an exception\"\n",
    "        #     print(\"first_valid=\",first_valid)\n",
    "            df_tmp.columns = df[3].columns\n",
    "            df_tmp = df_tmp[first_valid:]\n",
    "            df_tmp = df_tmp.reset_index(drop=True)\n",
    "            frames.append(df_tmp)\n",
    "        df_concurs[idx] = pd.concat(frames, sort=False)\n",
    "        df_concurs[idx].set_axis(['No', 'СНИЛС', 'Общ', 'Балл', 'Балл без ИД',\n",
    "        df_concurs[idx].columns[5].replace(\"\\r\", \"/\"),\n",
    "        df_concurs[idx].columns[6].replace(\"\\r\", \"/\"),\n",
    "        df_concurs[idx].columns[7].replace(\"\\r\", \"/\"),\n",
    "        'ИД', 'ПП', 'Ориг.', 'Согл.', 'Прогноз'], axis=1, inplace=True)\n",
    "        df_concurs[idx] = df_concurs[idx].reset_index(drop=True)\n",
    "# df_concurs[\"Маша3\"]"
   ]
  },
  {
   "cell_type": "code",
   "execution_count": 4,
   "id": "scenic-minneapolis",
   "metadata": {},
   "outputs": [
    {
     "name": "stdout",
     "output_type": "stream",
     "text": [
      "Артем, 09.03.01 (бюджет): \u001b[1m\u001b[34m1525\u001b[0m из 2626 участвующих в этом конкурсе вообще\n",
      "Артем, 09.03.03 (бюджет): \u001b[1m\u001b[34m1259\u001b[0m из 2054 участвующих в этом конкурсе вообще\n",
      "Артем, 10.05.01 (бюджет): \u001b[1m\u001b[34m337\u001b[0m из 504 участвующих в этом конкурсе вообще\n",
      "Артем, 09.03.01 (платка): \u001b[1m\u001b[34m511\u001b[0m из 1384 участвующих в этом конкурсе вообще\n",
      "Артем, 09.03.03 (платка): \u001b[1m\u001b[34m386\u001b[0m из 1090 участвующих в этом конкурсе вообще\n",
      "Артем, 10.05.01 (платка): \u001b[1m\u001b[34m109\u001b[0m из 253 участвующих в этом конкурсе вообще\n",
      "Маша, 01.03.04 (бюджет): \u001b[1m\u001b[34m867\u001b[0m из 1018 участвующих в этом конкурсе вообще\n",
      "Маша, 09.03.01 (бюджет): \u001b[1m\u001b[34m1893\u001b[0m из 2626 участвующих в этом конкурсе вообще\n",
      "Маша, 12.03.02 (бюджет): \u001b[1m\u001b[34m251\u001b[0m из 351 участвующих в этом конкурсе вообще\n"
     ]
    }
   ],
   "source": [
    "df_concurs_head = {}\n",
    "for Person in Persons:\n",
    "    for Spec in Persons[Person][\"Спец\"]:\n",
    "        idx = Person+str(Spec)\n",
    "#         print(idx)\n",
    "        num = df_concurs[idx][df_concurs[idx][\"СНИЛС\"] == Persons[Person][\"Док\"]].index.values[0] + 1\n",
    "        print(\n",
    "            Person + \", \" + Persons[Person][\"Спец\"][Spec][\"ОКСО\"] + \": \\033[1m\\033[34m\"\n",
    "            + str(num)\n",
    "            + \"\\033[0m из \"\n",
    "            + str(len(df_concurs[idx]))\n",
    "            + \" участвующих в этом конкурсе вообще\"\n",
    "        )\n",
    "        df_concurs_head[idx] = df_concurs[idx][:num]\n",
    "# df_concurs_head[\"Маша3\"]"
   ]
  },
  {
   "cell_type": "markdown",
   "id": "emotional-helmet",
   "metadata": {},
   "source": [
    "Не по делу, а лишь только любопытства ради: сколько всего заплатили (вместе  теми, кто еще не принес Оригинал)"
   ]
  },
  {
   "cell_type": "code",
   "execution_count": 5,
   "id": "negative-gazette",
   "metadata": {},
   "outputs": [
    {
     "name": "stdout",
     "output_type": "stream",
     "text": [
      "09.03.01 (платка): мест 184, согласий/оплат \u001b[1m\u001b[34m172\u001b[0m\n",
      "09.03.03 (платка): мест 85, согласий/оплат \u001b[1m\u001b[34m83\u001b[0m\n",
      "10.05.01 (платка): мест 39, согласий/оплат \u001b[1m\u001b[34m27\u001b[0m\n"
     ]
    }
   ],
   "source": [
    "df_concurs_agree = {}\n",
    "mark_pass = {}\n",
    "for Person in [\"Артем\"]:\n",
    "    for Spec in [4,5,6]:\n",
    "        idx = Person+str(Spec)\n",
    "        df_concurs_agree[idx] = df_concurs[idx][\n",
    "#             (df_concurs[idx][\"Ориг.\"] == \"Да\") & \n",
    "            (df_concurs[idx][\"Согл.\"] == \"Да\")\n",
    "        ]\n",
    "        df_concurs_agree[idx] = df_concurs_agree[idx].reset_index(drop=True)\n",
    "        place_pass_row = df_concurs_agree[idx].iloc[min(Persons[Person][\"Спец\"][Spec][\"Места\"], len(df_concurs_agree[idx]))-1]\n",
    "        mark_pass[idx] = place_pass_row[\"Балл\"]\n",
    "        print(\n",
    "            Persons[Person][\"Спец\"][Spec][\"ОКСО\"] + \": мест \" + str(Persons[Person][\"Спец\"][Spec][\"Места\"]) + \n",
    "            \", согласий/оплат \\033[1m\\033[34m\" + str(len(df_concurs_agree[idx])) + \"\\033[0m\"\n",
    "        )"
   ]
  },
  {
   "cell_type": "markdown",
   "id": "turned-density",
   "metadata": {},
   "source": [
    "Выбираем тех, кто рассматривается к зачислению (только Оригинал + Согласие)"
   ]
  },
  {
   "cell_type": "code",
   "execution_count": 6,
   "id": "related-aircraft",
   "metadata": {
    "scrolled": false
   },
   "outputs": [],
   "source": [
    "df_concurs_agree = {}\n",
    "mark_pass = {}\n",
    "for Person in Persons:\n",
    "    for Spec in Persons[Person][\"Спец\"]:\n",
    "        idx = Person+str(Spec)\n",
    "#         print(idx)\n",
    "        df_concurs_agree[idx] = df_concurs[idx][\n",
    "            (df_concurs[idx][\"Ориг.\"] == \"Да\")\n",
    "            & (df_concurs[idx][\"Согл.\"] == \"Да\")\n",
    "        ]\n",
    "        df_concurs_agree[idx] = df_concurs_agree[idx].reset_index(drop=True)\n",
    "        place_pass_row = df_concurs_agree[idx].iloc[min(Persons[Person][\"Спец\"][Spec][\"Места\"], len(df_concurs_agree[idx]))-1]\n",
    "        mark_pass[idx] = place_pass_row[\"Балл\"]\n",
    "# df_concurs_agree[\"Маша3\"]"
   ]
  },
  {
   "cell_type": "markdown",
   "id": "entitled-mapping",
   "metadata": {},
   "source": [
    "Дальше крутим-вертим просто любопытства ради, посмотреть у кого были какие запасные варианты, а кто сразу струсил и заплатил"
   ]
  },
  {
   "cell_type": "code",
   "execution_count": null,
   "id": "sensitive-karaoke",
   "metadata": {},
   "outputs": [],
   "source": [
    "check = pd.merge(\n",
    "    left=df_concurs_agree[\"Артем1\"][[\"СНИЛС\", \"Балл\", \"Ориг.\", \"Согл.\", \"Прогноз\"]], \n",
    "    right=df_concurs[\"Артем4\"][[\"СНИЛС\", \"Ориг.\", \"Согл.\", \"Прогноз\"]], \n",
    "    how=\"left\", \n",
    "    on=\"СНИЛС\", \n",
    ")\n",
    "check = check.fillna(\"\")\n",
    "print(\"Бюджет -> Платка\")\n",
    "print(\"09.03.01,\", \"согласий\", len(check))\n",
    "check[101:126]"
   ]
  },
  {
   "cell_type": "code",
   "execution_count": null,
   "id": "painted-scale",
   "metadata": {},
   "outputs": [],
   "source": [
    "check = pd.merge(\n",
    "    left=df_concurs_agree[\"Артем4\"][[\"СНИЛС\", \"Балл\", \"Ориг.\", \"Согл.\", \"Прогноз\"]], \n",
    "    right=df_concurs[\"Артем1\"][[\"СНИЛС\", \"Ориг.\", \"Согл.\", \"Прогноз\"]], \n",
    "    how=\"left\", \n",
    "    on=\"СНИЛС\", \n",
    ")\n",
    "check = check.fillna(\"\")\n",
    "to_budget[\"Артем4\"] = check[\"СНИЛС\"][check[\"Прогноз_y\"] != \"\"]\n",
    "# print(to_budget)\n",
    "print(\"Платка -> Бюджет\")\n",
    "print(\"09.03.01\", \"согласий\", len(check))\n",
    "check.head(25)"
   ]
  },
  {
   "cell_type": "code",
   "execution_count": null,
   "id": "musical-trustee",
   "metadata": {
    "scrolled": true
   },
   "outputs": [],
   "source": [
    "check = pd.merge(\n",
    "    left=df_concurs_agree[\"Артем2\"][[\"СНИЛС\", \"Балл\", \"Ориг.\", \"Согл.\", \"Прогноз\"]], \n",
    "    right=df_concurs[\"Артем5\"][[\"СНИЛС\", \"Ориг.\", \"Согл.\", \"Прогноз\"]], \n",
    "    how=\"left\", \n",
    "    on=\"СНИЛС\", \n",
    ")\n",
    "check = check.fillna(\"\")\n",
    "print(\"Бюджет -> Платка\")\n",
    "print(\"09.03.03,\", \"согласий\", len(check))\n",
    "check[84:94]"
   ]
  },
  {
   "cell_type": "code",
   "execution_count": null,
   "id": "featured-start",
   "metadata": {},
   "outputs": [],
   "source": [
    "check = pd.merge(\n",
    "    left=df_concurs_agree[\"Артем5\"][[\"СНИЛС\", \"Балл\", \"Ориг.\", \"Согл.\", \"Прогноз\"]], \n",
    "    right=df_concurs[\"Артем2\"][[\"СНИЛС\", \"Ориг.\", \"Согл.\", \"Прогноз\"]], \n",
    "    how=\"left\", \n",
    "    on=\"СНИЛС\", \n",
    ")\n",
    "check = check.fillna(\"\")\n",
    "to_budget[\"Артем5\"] = check[\"СНИЛС\"][check[\"Прогноз_y\"] != \"\"]\n",
    "# print(to_budget)\n",
    "print(\"Платка -> Бюджет\")\n",
    "print(\"09.03.03,\", \"согласий\", len(check))\n",
    "check.head(10)"
   ]
  },
  {
   "cell_type": "code",
   "execution_count": null,
   "id": "brief-template",
   "metadata": {},
   "outputs": [],
   "source": [
    "check = pd.merge(\n",
    "    left=df_concurs_agree[\"Артем3\"][[\"СНИЛС\", \"Балл\", \"Ориг.\", \"Согл.\", \"Прогноз\"]], \n",
    "    right=df_concurs[\"Артем6\"][[\"СНИЛС\", \"Ориг.\", \"Согл.\", \"Прогноз\"]], \n",
    "    how=\"left\", \n",
    "    on=\"СНИЛС\", \n",
    ")\n",
    "check = check.fillna(\"\")\n",
    "print(\"Бюджет -> Платка\")\n",
    "print(\"10.05.01,\", \"согласий\", len(check))\n",
    "check[7:17]"
   ]
  },
  {
   "cell_type": "code",
   "execution_count": null,
   "id": "million-microwave",
   "metadata": {
    "scrolled": false
   },
   "outputs": [],
   "source": [
    "check = pd.merge(\n",
    "    left=df_concurs_agree[\"Артем6\"][[\"СНИЛС\", \"Балл\", \"Ориг.\", \"Согл.\", \"Прогноз\"]], \n",
    "    right=df_concurs[\"Артем3\"][[\"СНИЛС\", \"Ориг.\", \"Согл.\", \"Прогноз\"]], \n",
    "    how=\"left\", \n",
    "    on=\"СНИЛС\", \n",
    ")\n",
    "check = check.fillna(\"\")\n",
    "to_budget[\"Артем6\"] = check[\"СНИЛС\"][check[\"Прогноз_y\"] != \"\"]\n",
    "# print(to_budget)\n",
    "print(\"Платка -> Бюджет\")\n",
    "print(\"10.05.01,\", \"согласий\", len(check))\n",
    "check.head(10)"
   ]
  },
  {
   "cell_type": "code",
   "execution_count": null,
   "id": "invisible-blues",
   "metadata": {},
   "outputs": [],
   "source": [
    "for Person in Persons:\n",
    "    for Spec in Persons[Person][\"Спец\"]:\n",
    "        idx = Person+str(Spec)\n",
    "#         print(idx)\n",
    "        try:\n",
    "            df_concurs_agree[idx] = df_concurs_agree[idx][~df_concurs_agree[idx][\"СНИЛС\"].isin(to_budget[idx])]\n",
    "            df_concurs_agree[idx] = df_concurs_agree[idx].reset_index(drop=True)\n",
    "        except Exception as e:\n",
    "            str1 = \"we have found an exception\"\n",
    "#             print(\"пропустили\", e)\n",
    "df_concurs_agree[\"Артем4\"].head(15)"
   ]
  },
  {
   "cell_type": "code",
   "execution_count": 14,
   "id": "beautiful-vacation",
   "metadata": {},
   "outputs": [],
   "source": [
    "df_concurs_agree_head = {}\n",
    "for Person in Persons:\n",
    "    for Spec in Persons[Person][\"Спец\"]:\n",
    "        idx = Person+str(Spec)\n",
    "#         print(idx)\n",
    "        df_concurs_agree_head[idx] = df_concurs_agree[idx][\n",
    "            df_concurs_agree[idx][\"Балл\"].astype(int) >= Persons[Person][\"Спец\"][Spec][\"Балл\"]\n",
    "        ]\n",
    "        df_concurs_agree_head[idx] = df_concurs_agree_head[idx].reset_index(drop=True)\n",
    "# df_concurs_agree_head[\"Артем4\"]"
   ]
  },
  {
   "cell_type": "code",
   "execution_count": 15,
   "id": "constitutional-amount",
   "metadata": {
    "scrolled": false
   },
   "outputs": [],
   "source": [
    "num_prev = {}\n",
    "for Person in Persons:\n",
    "    for Spec in Persons[Person][\"Спец\"]:\n",
    "        idx = Person+str(Spec)\n",
    "#         print(idx)\n",
    "        m = min(\n",
    "            df_concurs_agree_head[idx][\n",
    "                df_concurs_agree_head[idx][\"Балл\"].astype(int) > Persons[Person][\"Спец\"][Spec][\"Балл\"]\n",
    "            ][\"Балл\"].astype(int)\n",
    "        )\n",
    "        num_prev[idx] = max(df_concurs_agree_head[idx][df_concurs_agree_head[idx][\"Балл\"].astype(int) == m].index.values)\n",
    "# num_prev"
   ]
  },
  {
   "cell_type": "code",
   "execution_count": 16,
   "id": "virtual-nickname",
   "metadata": {
    "scrolled": false
   },
   "outputs": [
    {
     "name": "stdout",
     "output_type": "stream",
     "text": [
      "Артем, 09.03.01 (платка): \n",
      "-\u001b[1m\u001b[34m15\u001b[0m из 184 \n",
      "-балл предыдущего 251 \n",
      "-всего согласий 96 \n",
      "-проходной балл 171 \n",
      " (\u001b[1m\u001b[34mнаше Согласие тут\u001b[0m)\n",
      "\n",
      "Артем, 09.03.03 (платка): \n",
      "-\u001b[1m\u001b[34m9\u001b[0m из 85 \n",
      "-балл предыдущего 251 \n",
      "-всего согласий 44 \n",
      "-проходной балл 191 \n",
      " (у нас отсутствует Согласие)\n",
      "\n",
      "Артем, 10.05.01 (платка): \n",
      "-\u001b[1m\u001b[34m7\u001b[0m из 39 \n",
      "-балл предыдущего 231 \n",
      "-всего согласий 19 \n",
      "-проходной балл 187 \n",
      " (у нас отсутствует Согласие)\n",
      "\n"
     ]
    }
   ],
   "source": [
    "for Person in Persons:\n",
    "    for Spec in Persons[Person][\"Спец\"]:\n",
    "        idx = Person+str(Spec)\n",
    "#         print(idx)\n",
    "        try:\n",
    "            num = df_concurs_agree[idx][df_concurs_agree[idx][\"СНИЛС\"] == Persons[Person][\"Док\"]].index.values[0]\n",
    "    #         print(num)\n",
    "            if Spec in [4,5,6]: # просто чтобы поменьше выводилось, все равно бюджет уже проехали\n",
    "                print(\n",
    "                    Person + \", \" + Persons[Person][\"Спец\"][Spec][\"ОКСО\"] + \": \\n-\\033[1m\\033[34m\"\n",
    "                    + str(num + 1)\n",
    "                    + \"\\033[0m из \"\n",
    "                    + str(Persons[Person][\"Спец\"][Spec][\"Места\"])\n",
    "                    + \" \\n-балл предыдущего \" + str(df_concurs_agree[idx].iloc[num_prev[idx]][\"Балл\"])\n",
    "                    + \" \\n-всего согласий \"\n",
    "                    + str(len(df_concurs_agree[idx]))\n",
    "                    + \" \\n-проходной балл \" + str(mark_pass[idx])\n",
    "                    + \" \\n (\\033[1m\\033[34mнаше Согласие тут\\033[0m)\\n\"\n",
    "                )\n",
    "        except:\n",
    "            str1 = \"we have found an exception\"\n",
    "            if Spec in [4,5,6]: # просто чтобы поменьше выводилось, все равно бюджет уже проехали\n",
    "                print(\n",
    "                    Person + \", \" + Persons[Person][\"Спец\"][Spec][\"ОКСО\"] + \": \\n-\\033[1m\\033[34m\"\n",
    "                    + str(num_prev[idx] + 2)\n",
    "                    + \"\\033[0m из \"\n",
    "                    + str(Persons[Person][\"Спец\"][Spec][\"Места\"]) \n",
    "                    + \" \\n-балл предыдущего \" + str(df_concurs_agree[idx].iloc[num_prev[idx]][\"Балл\"])\n",
    "                    + \" \\n-всего согласий \"\n",
    "                    + str(len(df_concurs_agree[idx]))\n",
    "                    + \" \\n-проходной балл \" + str(mark_pass[idx])\n",
    "                    + \" \\n (у нас отсутствует Согласие)\\n\"\n",
    "                )"
   ]
  }
 ],
 "metadata": {
  "kernelspec": {
   "display_name": "Python 3 (ipykernel)",
   "language": "python",
   "name": "python3"
  },
  "language_info": {
   "codemirror_mode": {
    "name": "ipython",
    "version": 3
   },
   "file_extension": ".py",
   "mimetype": "text/x-python",
   "name": "python",
   "nbconvert_exporter": "python",
   "pygments_lexer": "ipython3",
   "version": "3.10.9"
  }
 },
 "nbformat": 4,
 "nbformat_minor": 5
}
