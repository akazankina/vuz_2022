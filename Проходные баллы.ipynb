{
 "cells": [
  {
   "cell_type": "code",
   "execution_count": 1,
   "id": "ranking-diamond",
   "metadata": {},
   "outputs": [],
   "source": [
    "import pandas as pd\n",
    "import numpy as np\n",
    "import re\n",
    "import requests\n",
    "from bs4 import BeautifulSoup\n",
    "from tabula import read_pdf"
   ]
  },
  {
   "cell_type": "markdown",
   "id": "aggregate-scottish",
   "metadata": {},
   "source": [
    "### Бауманка"
   ]
  },
  {
   "cell_type": "code",
   "execution_count": 2,
   "id": "solid-ethnic",
   "metadata": {
    "scrolled": true
   },
   "outputs": [
    {
     "data": {
      "text/plain": [
       "{'01.03.02': 'https://priem.bmstu.ru/lists/upload/enrollees/first/moscow-1/01.03.02.pdf',\n",
       " '01.03.03': 'https://priem.bmstu.ru/lists/upload/enrollees/first/moscow-1/01.03.03.pdf',\n",
       " '01.03.04': 'https://priem.bmstu.ru/lists/upload/enrollees/first/moscow-1/01.03.04.pdf',\n",
       " '02.03.01': 'https://priem.bmstu.ru/lists/upload/enrollees/first/moscow-1/02.03.01.pdf',\n",
       " '09.03.01': 'https://priem.bmstu.ru/lists/upload/enrollees/first/moscow-1/09.03.01.pdf',\n",
       " '09.03.02': 'https://priem.bmstu.ru/lists/upload/enrollees/first/moscow-1/09.03.02.pdf',\n",
       " '09.03.03': 'https://priem.bmstu.ru/lists/upload/enrollees/first/moscow-1/09.03.03.pdf',\n",
       " '09.03.04': 'https://priem.bmstu.ru/lists/upload/enrollees/first/moscow-1/09.03.04.pdf',\n",
       " '10.05.01': 'https://priem.bmstu.ru/lists/upload/enrollees/first/moscow-1/10.05.01.pdf',\n",
       " '10.05.03': 'https://priem.bmstu.ru/lists/upload/enrollees/first/moscow-1/10.05.03.pdf',\n",
       " '10.05.05': 'https://priem.bmstu.ru/lists/upload/enrollees/first/moscow-1/10.05.05.pdf',\n",
       " '11.03.03': 'https://priem.bmstu.ru/lists/upload/enrollees/first/moscow-1/11.03.03.pdf',\n",
       " '11.03.04': 'https://priem.bmstu.ru/lists/upload/enrollees/first/moscow-1/11.03.04.pdf',\n",
       " '11.05.01': 'https://priem.bmstu.ru/lists/upload/enrollees/first/moscow-1/11.05.01.pdf',\n",
       " '12.03.02': 'https://priem.bmstu.ru/lists/upload/enrollees/first/moscow-1/12.03.02.pdf',\n",
       " '12.03.04': 'https://priem.bmstu.ru/lists/upload/enrollees/first/moscow-1/12.03.04.pdf',\n",
       " '12.03.05': 'https://priem.bmstu.ru/lists/upload/enrollees/first/moscow-1/12.03.05.pdf',\n",
       " '12.05.01': 'https://priem.bmstu.ru/lists/upload/enrollees/first/moscow-1/12.05.01.pdf',\n",
       " '13.03.02': 'https://priem.bmstu.ru/lists/upload/enrollees/first/moscow-1/13.03.02.pdf',\n",
       " '13.03.03': 'https://priem.bmstu.ru/lists/upload/enrollees/first/moscow-1/13.03.03.pdf',\n",
       " '14.03.01': 'https://priem.bmstu.ru/lists/upload/enrollees/first/moscow-1/14.03.01.pdf',\n",
       " '14.05.01': 'https://priem.bmstu.ru/lists/upload/enrollees/first/moscow-1/14.05.01.pdf',\n",
       " '15.03.01': 'https://priem.bmstu.ru/lists/upload/enrollees/first/moscow-1/15.03.01.pdf',\n",
       " '15.03.02': 'https://priem.bmstu.ru/lists/upload/enrollees/first/moscow-1/15.03.02.pdf',\n",
       " '15.03.03': 'https://priem.bmstu.ru/lists/upload/enrollees/first/moscow-1/15.03.03.pdf',\n",
       " '15.03.04': 'https://priem.bmstu.ru/lists/upload/enrollees/first/moscow-1/15.03.04.pdf',\n",
       " '15.03.06': 'https://priem.bmstu.ru/lists/upload/enrollees/first/moscow-1/15.03.06.pdf',\n",
       " '15.05.01': 'https://priem.bmstu.ru/lists/upload/enrollees/first/moscow-1/15.05.01.pdf',\n",
       " '15.05.02': 'https://priem.bmstu.ru/lists/upload/enrollees/first/moscow-1/15.05.02.pdf',\n",
       " '16.03.01': 'https://priem.bmstu.ru/lists/upload/enrollees/first/moscow-1/16.03.01.pdf',\n",
       " '16.03.02': 'https://priem.bmstu.ru/lists/upload/enrollees/first/moscow-1/16.03.02.pdf',\n",
       " '16.03.03': 'https://priem.bmstu.ru/lists/upload/enrollees/first/moscow-1/16.03.03.pdf',\n",
       " '16.05.01': 'https://priem.bmstu.ru/lists/upload/enrollees/first/moscow-1/16.05.01.pdf',\n",
       " '17.05.01': 'https://priem.bmstu.ru/lists/upload/enrollees/first/moscow-1/17.05.01.pdf',\n",
       " '17.05.02': 'https://priem.bmstu.ru/lists/upload/enrollees/first/moscow-1/17.05.02.pdf',\n",
       " '20.03.01': 'https://priem.bmstu.ru/lists/upload/enrollees/first/moscow-1/20.03.01.pdf',\n",
       " '22.03.01': 'https://priem.bmstu.ru/lists/upload/enrollees/first/moscow-1/22.03.01.pdf',\n",
       " '23.05.01': 'https://priem.bmstu.ru/lists/upload/enrollees/first/moscow-1/23.05.01.pdf',\n",
       " '23.05.02': 'https://priem.bmstu.ru/lists/upload/enrollees/first/moscow-1/23.05.02.pdf',\n",
       " '24.03.01': 'https://priem.bmstu.ru/lists/upload/enrollees/first/moscow-1/24.03.01.pdf',\n",
       " '24.05.01': 'https://priem.bmstu.ru/lists/upload/enrollees/first/moscow-1/24.05.01.pdf',\n",
       " '24.05.02': 'https://priem.bmstu.ru/lists/upload/enrollees/first/moscow-1/24.05.02.pdf',\n",
       " '24.05.04': 'https://priem.bmstu.ru/lists/upload/enrollees/first/moscow-1/24.05.04.pdf',\n",
       " '24.05.06': 'https://priem.bmstu.ru/lists/upload/enrollees/first/moscow-1/24.05.06.pdf',\n",
       " '27.03.01': 'https://priem.bmstu.ru/lists/upload/enrollees/first/moscow-1/27.03.01.pdf',\n",
       " '27.03.04': 'https://priem.bmstu.ru/lists/upload/enrollees/first/moscow-1/27.03.04.pdf',\n",
       " '27.03.05': 'https://priem.bmstu.ru/lists/upload/enrollees/first/moscow-1/27.03.05.pdf',\n",
       " '28.03.02': 'https://priem.bmstu.ru/lists/upload/enrollees/first/moscow-1/28.03.02.pdf',\n",
       " '38.03.05': 'https://priem.bmstu.ru/lists/upload/enrollees/first/moscow-1/38.03.05.pdf',\n",
       " '39.03.01': 'https://priem.bmstu.ru/lists/upload/enrollees/first/moscow-1/39.03.01.pdf',\n",
       " '40.05.03': 'https://priem.bmstu.ru/lists/upload/enrollees/first/moscow-1/40.05.03.pdf',\n",
       " '54.03.01': 'https://priem.bmstu.ru/lists/upload/enrollees/first/moscow-1/54.03.01.pdf'}"
      ]
     },
     "execution_count": 2,
     "metadata": {},
     "output_type": "execute_result"
    }
   ],
   "source": [
    "link_dict = {}\n",
    "url = \"C:\\\\Users\\\\Ally\\\\Desktop\\\\Маша\\\\html\\\\baum.html\"\n",
    "html = BeautifulSoup(open(url,'r').read(), 'html.parser')\n",
    "find_text = html.find_all('a', class_='mat-list-item')\n",
    "\n",
    "for i in range(len(find_text)):\n",
    "    text = find_text[i].get(\"href\")\n",
    "    spec = text.split(\"/\")\n",
    "    spec = spec[6].split(\".pdf\")[0]\n",
    "    link_dict[spec] = \"https://priem.bmstu.ru\" + find_text[i].get(\"href\")\n",
    "link_dict"
   ]
  },
  {
   "cell_type": "code",
   "execution_count": 3,
   "id": "played-whale",
   "metadata": {
    "scrolled": false
   },
   "outputs": [],
   "source": [
    "df_concurs = {}\n",
    "for spec in link_dict:\n",
    "    bmstu_path = link_dict[spec]\n",
    "    df = read_pdf(bmstu_path, pages='all')\n",
    "    frames = []\n",
    "#     print(spec, len(df))\n",
    "    for i in range(len(df)):\n",
    "        first_valid = 0\n",
    "        df_tmp = df[i]\n",
    "        try:\n",
    "            scip_flag = (df[i].loc[0][0] == \"No\" or df[i].loc[0][0] == \"СНИЛС /\" or np.isnan(df[i].loc[0][0]))\n",
    "        except Exception as e:\n",
    "            scip_flag = True\n",
    "    #     print(\"first_item=\", df[i].loc[0][0], \"len_df=\",len(df[i]))\n",
    "        if scip_flag:\n",
    "            for j in range(len(df[i])):\n",
    "                try:\n",
    "                    if df[i].loc[j][0].isnumeric():\n",
    "                        if first_valid == 0:\n",
    "                            first_valid = j\n",
    "                except Exception as e:\n",
    "                   str1 = \"we have found an exception\"\n",
    "    #     print(\"first_valid=\",first_valid)\n",
    "        try:\n",
    "            df_tmp.columns = df[len(df)-1].columns\n",
    "            df_tmp = df_tmp[first_valid:]\n",
    "            df_tmp = df_tmp.reset_index(drop=True)\n",
    "            frames.append(df_tmp)\n",
    "        except Exception as e:\n",
    "            str1 = \"we have found an exception\"\n",
    "    df_concurs[spec] = pd.concat(frames, sort=False)\n",
    "    df_concurs[spec] = df_concurs[spec].reset_index(drop=True)\n",
    "df_concurs[\"13.03.03\"].columns = df_concurs[\"12.05.01\"].columns\n",
    "df_concurs[\"15.03.06\"].columns = df_concurs[\"15.03.04\"].columns\n",
    "# df_concurs['15.05.04']"
   ]
  },
  {
   "cell_type": "code",
   "execution_count": 4,
   "id": "dependent-ideal",
   "metadata": {
    "scrolled": true
   },
   "outputs": [],
   "source": [
    "df_concurs_agree = {}\n",
    "mark_pass = {}\n",
    "for spec in link_dict:\n",
    "    df_concurs_agree[spec] = df_concurs[spec][\n",
    "        (df_concurs[spec][\"Согл.\"] == \"Да\")\n",
    "        & (df_concurs[spec][\"Прогноз\\rНПС для\\rзачисления\"] == spec)\n",
    "    ]\n",
    "    df_concurs_agree[spec] = df_concurs_agree[spec].reset_index(drop=True)\n",
    "    place_pass_row = df_concurs_agree[spec].iloc[len(df_concurs_agree[spec])-1]\n",
    "    mark_pass[spec] = place_pass_row[\"Сумма\\rбаллов\"]\n",
    "#     print(spec, len(df_concurs_agree))\n",
    "# df_concurs_agree[\"12.03.02\"]"
   ]
  },
  {
   "cell_type": "code",
   "execution_count": 5,
   "id": "three-missile",
   "metadata": {},
   "outputs": [
    {
     "name": "stdout",
     "output_type": "stream",
     "text": [
      "01.03.02: всего согласий 11, проходной балл \u001b[1m\u001b[34m272\u001b[0m, экзамены - Инф/Физ, Мат, Рус\n",
      "01.03.03: всего согласий 17, проходной балл \u001b[1m\u001b[34m202\u001b[0m, экзамены - Инф/Физ, Мат, Рус\n",
      "01.03.04: всего согласий 69, проходной балл \u001b[1m\u001b[34m255\u001b[0m, экзамены - Мат, Инф/Физ, Рус\n",
      "02.03.01: всего согласий 39, проходной балл \u001b[1m\u001b[34m228\u001b[0m, экзамены - Инф/Физ, Мат, Рус\n",
      "09.03.01: всего согласий 101, проходной балл \u001b[1m\u001b[34m257\u001b[0m, экзамены - Инф/Физ, Мат, Рус\n",
      "09.03.02: всего согласий 46, проходной балл \u001b[1m\u001b[34m247\u001b[0m, экзамены - Инф/Физ, Мат, Рус\n",
      "09.03.03: всего согласий 84, проходной балл \u001b[1m\u001b[34m255\u001b[0m, экзамены - Инф/Физ, Мат, Рус\n",
      "09.03.04: всего согласий 11, проходной балл \u001b[1m\u001b[34m291\u001b[0m, экзамены - Инф/Физ, Мат, Рус\n",
      "10.05.01: всего согласий 7, проходной балл \u001b[1m\u001b[34m247\u001b[0m, экзамены - Физ, Мат, Рус\n",
      "10.05.03: всего согласий 16, проходной балл \u001b[1m\u001b[34m253\u001b[0m, экзамены - Физ, Мат, Рус\n",
      "10.05.05: всего согласий 10, проходной балл \u001b[1m\u001b[34m256\u001b[0m, экзамены - Мат, Инф/Физ, Рус\n",
      "11.03.03: всего согласий 69, проходной балл \u001b[1m\u001b[34m237\u001b[0m, экзамены - ЭИФ/ИТУ/Инф/Физ, МТП/Мат, Рус\n",
      "11.03.04: всего согласий 18, проходной балл \u001b[1m\u001b[34m226\u001b[0m, экзамены - Инф/Физ, Мат, Рус\n",
      "11.05.01: всего согласий 66, проходной балл \u001b[1m\u001b[34m163\u001b[0m, экзамены - Физ, Мат, Рус\n",
      "12.03.02: всего согласий 17, проходной балл \u001b[1m\u001b[34m224\u001b[0m, экзамены - Инф/Физ, Мат, Рус\n",
      "12.03.04: всего согласий 50, проходной балл \u001b[1m\u001b[34m225\u001b[0m, экзамены - Физ, Мат, Рус\n",
      "12.03.05: всего согласий 18, проходной балл \u001b[1m\u001b[34m203\u001b[0m, экзамены - Инф/Физ, Мат, Рус\n",
      "12.05.01: всего согласий 50, проходной балл \u001b[1m\u001b[34m226\u001b[0m, экзамены - ЭИФ/ИТУ/Инф/Физ, МТП/Мат, Рус\n",
      "13.03.02: всего согласий 42, проходной балл \u001b[1m\u001b[34m149\u001b[0m, экзамены - Инф/Физ, Мат, Рус\n",
      "13.03.03: всего согласий 94, проходной балл \u001b[1m\u001b[34m159\u001b[0m, экзамены - ЭИФ/ИТУ/Инф/Физ, МТП/Мат, Рус\n",
      "14.03.01: всего согласий 28, проходной балл \u001b[1m\u001b[34m155\u001b[0m, экзамены - Физ, Мат, Рус\n",
      "14.05.01: всего согласий 38, проходной балл \u001b[1m\u001b[34m189\u001b[0m, экзамены - Физ, Мат, Рус\n",
      "15.03.01: всего согласий 64, проходной балл \u001b[1m\u001b[34m158\u001b[0m, экзамены - ЭИФ/ИТУ/Инф/Физ, МТП/Мат, Рус\n",
      "15.03.02: всего согласий 15, проходной балл \u001b[1m\u001b[34m189\u001b[0m, экзамены - Физ, Мат, Рус\n",
      "15.03.03: всего согласий 44, проходной балл \u001b[1m\u001b[34m202\u001b[0m, экзамены - Инф/Физ, Мат, Рус\n",
      "15.03.04: всего согласий 34, проходной балл \u001b[1m\u001b[34m265\u001b[0m, экзамены - Инф/Физ, Мат, Рус\n",
      "15.03.06: всего согласий 52, проходной балл \u001b[1m\u001b[34m246\u001b[0m, экзамены - Инф/Физ, Мат, Рус\n",
      "15.05.01: всего согласий 211, проходной балл \u001b[1m\u001b[34m163\u001b[0m, экзамены - ЭИФ/ИТУ/Инф/Физ, МТП/Мат, Рус\n",
      "15.05.02: всего согласий 28, проходной балл \u001b[1m\u001b[34m208\u001b[0m, экзамены - ЭИФ/ИТУ/Инф/Физ, МТП/Мат, Рус\n",
      "16.03.01: всего согласий 38, проходной балл \u001b[1m\u001b[34m238\u001b[0m, экзамены - Физ, Мат, Рус\n",
      "16.03.02: всего согласий 40, проходной балл \u001b[1m\u001b[34m169\u001b[0m, экзамены - Физ, Мат, Рус\n",
      "16.03.03: всего согласий 40, проходной балл \u001b[1m\u001b[34m155\u001b[0m, экзамены - Инф/Физ, Мат, Рус\n",
      "16.05.01: всего согласий 16, проходной балл \u001b[1m\u001b[34m153\u001b[0m, экзамены - Инф/Физ, Мат, Рус\n",
      "17.05.01: всего согласий 47, проходной балл \u001b[1m\u001b[34m202\u001b[0m, экзамены - ЭИФ/ИТУ/Инф/Физ, МТП/Мат, Рус\n",
      "17.05.02: всего согласий 37, проходной балл \u001b[1m\u001b[34m198\u001b[0m, экзамены - ЭИФ/ИТУ/Инф/Физ, МТП/Мат, Рус\n",
      "20.03.01: всего согласий 40, проходной балл \u001b[1m\u001b[34m167\u001b[0m, экзамены - Инф/Физ, Мат, Рус\n",
      "22.03.01: всего согласий 49, проходной балл \u001b[1m\u001b[34m194\u001b[0m, экзамены - Физ, Мат, Рус\n",
      "23.05.01: всего согласий 55, проходной балл \u001b[1m\u001b[34m201\u001b[0m, экзамены - ЭИФ/ИТУ/Инф/Физ, МТП/Мат, Рус\n",
      "23.05.02: всего согласий 37, проходной балл \u001b[1m\u001b[34m179\u001b[0m, экзамены - ЭИФ/ИТУ/Инф/Физ, МТП/Мат, Рус\n",
      "24.03.01: всего согласий 35, проходной балл \u001b[1m\u001b[34m221\u001b[0m, экзамены - Инф/Физ, Мат, Рус\n",
      "24.05.01: всего согласий 173, проходной балл \u001b[1m\u001b[34m161\u001b[0m, экзамены - ЭИФ/Физ, МТП/Мат, Рус\n",
      "24.05.02: всего согласий 105, проходной балл \u001b[1m\u001b[34m173\u001b[0m, экзамены - ЭИФ/Физ, МТП/Мат, Рус\n",
      "24.05.04: всего согласий 34, проходной балл \u001b[1m\u001b[34m200\u001b[0m, экзамены - Инф/Физ, Мат, Рус\n",
      "24.05.06: всего согласий 174, проходной балл \u001b[1m\u001b[34m157\u001b[0m, экзамены - ЭИФ/ИТУ/Инф/Физ, МТП/Мат, Рус\n",
      "27.03.01: всего согласий 19, проходной балл \u001b[1m\u001b[34m206\u001b[0m, экзамены - Инф/Физ, Мат, Рус\n",
      "27.03.04: всего согласий 52, проходной балл \u001b[1m\u001b[34m160\u001b[0m, экзамены - Инф/Физ, Мат, Рус\n",
      "27.03.05: всего согласий 165, проходной балл \u001b[1m\u001b[34m244\u001b[0m, экзамены - Инф/Физ, Мат, Рус\n",
      "28.03.02: всего согласий 55, проходной балл \u001b[1m\u001b[34m193\u001b[0m, экзамены - Инф/Физ, Мат, Рус\n",
      "38.03.05: всего согласий 11, проходной балл \u001b[1m\u001b[34m278\u001b[0m, экзамены - Мат, Инф/Общ, Рус\n",
      "39.03.01: всего согласий 10, проходной балл \u001b[1m\u001b[34m265\u001b[0m, экзамены - Общ, Ист/Мат, Рус\n",
      "40.05.03: всего согласий 8, проходной балл \u001b[1m\u001b[34m279\u001b[0m, экзамены - Общ, Ист/Мат, Рус\n",
      "54.03.01: всего согласий 5, проходной балл \u001b[1m\u001b[34m253\u001b[0m, экзамены - Диз, АДО/ИД/Ист/Общ, Рус\n"
     ]
    }
   ],
   "source": [
    "for spec in link_dict:\n",
    "    print(\n",
    "        spec + \": \"\n",
    "        + \"всего согласий \"\n",
    "        + str(len(df_concurs_agree[spec]))\n",
    "        + \", проходной балл \\033[1m\\033[34m\" + str(mark_pass[spec])\n",
    "        + \"\\033[0m\"\n",
    "        + \", экзамены - \"\n",
    "        + df_concurs_agree[spec].columns[5].replace(\"\\r\", \"/\") + \", \"\n",
    "        + df_concurs_agree[spec].columns[6].replace(\"\\r\", \"/\") + \", \"\n",
    "        + df_concurs_agree[spec].columns[7].replace(\"\\r\", \"/\")\n",
    "    )"
   ]
  }
 ],
 "metadata": {
  "kernelspec": {
   "display_name": "Python 3 (ipykernel)",
   "language": "python",
   "name": "python3"
  },
  "language_info": {
   "codemirror_mode": {
    "name": "ipython",
    "version": 3
   },
   "file_extension": ".py",
   "mimetype": "text/x-python",
   "name": "python",
   "nbconvert_exporter": "python",
   "pygments_lexer": "ipython3",
   "version": "3.10.9"
  }
 },
 "nbformat": 4,
 "nbformat_minor": 5
}
