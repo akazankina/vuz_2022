{
 "cells": [
  {
   "cell_type": "markdown",
   "id": "express-shannon",
   "metadata": {},
   "source": [
    "Стартовая настроечка: про кого смотрим?\n",
    "* A - Артём\n",
    "* M - Маша"
   ]
  },
  {
   "cell_type": "code",
   "execution_count": null,
   "id": "humanitarian-roots",
   "metadata": {},
   "outputs": [],
   "source": [
    "Person = \"A\"\n",
    "Person = \"M\""
   ]
  },
  {
   "cell_type": "markdown",
   "id": "young-expression",
   "metadata": {},
   "source": [
    "Ещё одна настроечка: где ищем эксельки (для тех вузов, по которым нифига онлайн не парсится) и куда складываем результат?"
   ]
  },
  {
   "cell_type": "code",
   "execution_count": null,
   "id": "seeing-grill",
   "metadata": {},
   "outputs": [],
   "source": [
    "path = \"C:\\\\Users\\\\Ally\\\\Desktop\\\\Маша\\\\\""
   ]
  },
  {
   "cell_type": "markdown",
   "id": "defensive-worst",
   "metadata": {},
   "source": [
    "Дальше уже не настройки, а сама прога"
   ]
  },
  {
   "cell_type": "code",
   "execution_count": null,
   "id": "secondary-politics",
   "metadata": {},
   "outputs": [],
   "source": [
    "Docs = {\"A\": \"111-111-111 11\", \"M\": \"222-222-222 22\"}  # номера СНИЛС\n",
    "Marks = {\"M\": 233, \"A\": 250}\n",
    "Paths = {\n",
    "    \"M\": \"https://priem.bmstu.ru/lists/upload/enrollees/first/moscow-1/12.03.02.pdf\",\n",
    "    \"A\": \"https://priem.bmstu.ru/lists/upload/enrollees/first/moscow-1/09.03.01.pdf\"\n",
    "}\n",
    "Places = {\"M\": 17, \"A\": 101}"
   ]
  },
  {
   "cell_type": "code",
   "execution_count": null,
   "id": "unique-calculation",
   "metadata": {},
   "outputs": [],
   "source": [
    "import pandas as pd\n",
    "import numpy as np\n",
    "import re"
   ]
  },
  {
   "cell_type": "code",
   "execution_count": null,
   "id": "coastal-adams",
   "metadata": {},
   "outputs": [],
   "source": [
    "# pip install tabula-py"
   ]
  },
  {
   "cell_type": "code",
   "execution_count": null,
   "id": "flush-zambia",
   "metadata": {},
   "outputs": [],
   "source": [
    "from tabula import read_pdf\n",
    "bmstu_path = Paths[Person]\n",
    "df = read_pdf(bmstu_path, pages='all')\n",
    "len(df)"
   ]
  },
  {
   "cell_type": "markdown",
   "id": "neural-colleague",
   "metadata": {},
   "source": [
    "Парсим все данные по конкурсу на нашу специальность"
   ]
  },
  {
   "cell_type": "code",
   "execution_count": null,
   "id": "detected-robert",
   "metadata": {
    "scrolled": false
   },
   "outputs": [],
   "source": [
    "frames = []\n",
    "for i in range(len(df)):\n",
    "    first_valid = 0\n",
    "    df_tmp = df[i]\n",
    "    try:\n",
    "        scip_flag = (df[i].loc[0][0] == \"No\" or np.isnan(df[i].loc[0][0]))\n",
    "    except Exception as e:\n",
    "        scip_flag = True\n",
    "#     print(\"first_item=\", df[i].loc[0][0], \"len_df=\",len(df[i]))\n",
    "    if scip_flag:\n",
    "        for j in range(len(df[i])):\n",
    "            try:\n",
    "                if df[i].loc[j][0].isnumeric():\n",
    "                    if first_valid == 0:\n",
    "                        first_valid = j\n",
    "            except Exception as e:\n",
    "               str1 = \"we have found an exception\"\n",
    "#     print(\"first_valid=\",first_valid)\n",
    "    df_tmp.columns = df[2].columns\n",
    "    df_tmp = df_tmp[first_valid:]\n",
    "    df_tmp = df_tmp.reset_index(drop=True)\n",
    "    frames.append(df_tmp)\n",
    "df_concurs = pd.concat(frames, sort=False)\n",
    "df_concurs = df_concurs.reset_index(drop=True)\n",
    "df_concurs"
   ]
  },
  {
   "cell_type": "code",
   "execution_count": null,
   "id": "level-princess",
   "metadata": {},
   "outputs": [],
   "source": [
    "num = df_concurs[df_concurs[\"СНИЛС /\\rРег. номер\"] == Docs[Person]].index.values[0] + 1\n",
    "print(\n",
    "    \"Искомый абитуриент сейчас \\n\\033[1m\\033[34m\"\n",
    "    + str(num)\n",
    "    + \"\\033[0m из \"\n",
    "    + str(len(df_concurs))\n",
    "    + \", участвующих в этом конкурсе\"\n",
    ")"
   ]
  },
  {
   "cell_type": "code",
   "execution_count": null,
   "id": "worldwide-motorcycle",
   "metadata": {
    "scrolled": false
   },
   "outputs": [],
   "source": [
    "df_concurs_originals = df_concurs[df_concurs[\"Ориг.\"] == \"Да\"]\n",
    "df_concurs_originals = df_concurs_originals.reset_index(drop=True)\n",
    "# df_concurs_originals"
   ]
  },
  {
   "cell_type": "code",
   "execution_count": null,
   "id": "derived-islam",
   "metadata": {},
   "outputs": [],
   "source": [
    "num = df_concurs_originals[df_concurs_originals[\"СНИЛС /\\rРег. номер\"] == Docs[Person]].index.values[0] + 1\n",
    "print(\n",
    "    \"Искомый абитуриент на текущий момент \\n\\033[1m\\033[34m\"\n",
    "    + str(num)\n",
    "    + \"\\033[0m из \"\n",
    "    + str(len(df_concurs_originals))\n",
    "    + \", принесших в вуз Оригинал\"\n",
    ")"
   ]
  },
  {
   "cell_type": "code",
   "execution_count": null,
   "id": "authentic-announcement",
   "metadata": {
    "scrolled": false
   },
   "outputs": [],
   "source": [
    "df_concurs_agree = df_concurs_originals[df_concurs_originals[\"Согл.\"] == \"Да\"]\n",
    "df_concurs_agree = df_concurs_agree.reset_index(drop=True)\n",
    "# df_concurs_agree"
   ]
  },
  {
   "cell_type": "code",
   "execution_count": null,
   "id": "acknowledged-extraction",
   "metadata": {
    "scrolled": true
   },
   "outputs": [],
   "source": [
    "num_prev = df_concurs_agree[df_concurs_agree[\"Сумма\\rбаллов\"].astype(int) == \n",
    "                 min(\n",
    "                     df_concurs_agree[\n",
    "                         df_concurs_agree[\"Сумма\\rбаллов\"].astype(int) > Marks[Person]\n",
    "                     ][\"Сумма\\rбаллов\"].astype(int)\n",
    "                 )].index.values[0] + 1"
   ]
  },
  {
   "cell_type": "code",
   "execution_count": null,
   "id": "urban-veteran",
   "metadata": {},
   "outputs": [],
   "source": [
    "try:\n",
    "    num = df_concurs_agree[df_concurs_agree[\"СНИЛС /\\rРег. номер\"] == Docs[Person]].index.values[0] + 1\n",
    "    print(\n",
    "        \"Искомый абитуриент на текущий момент \\n\\033[1m\\033[34m\"\n",
    "        + str(num)\n",
    "        + \"\\033[0m из \"\n",
    "    + str(Places[Person]) + \" имеющихся мест для зачисления \\n\\n\"\n",
    "    + \"Всего на это направление сейчас принесли в вуз и Оригинал, и Согласие на зачисление \"\n",
    "        + str(len(df_concurs_agree)) + \" абитуриентов\"\n",
    "    )\n",
    "except:\n",
    "    print(\n",
    "        \"Искомый абитуриент на текущий момент не подал Согласие на зачисление\\n\"\n",
    "        + \"Подаст - будет \\033[1m\\033[34m\"\n",
    "    + str(num_prev+1)\n",
    "    + \"\\033[0m из \"\n",
    "    + str(Places[Person]) + \" имеющихся мест для зачисления \\n\\n\"\n",
    "    + \"Всего на это направление сейчас принесли в вуз и Оригинал, и Согласие на зачисление \"\n",
    "        + str(len(df_concurs_agree)) + \" абитуриентов\"\n",
    "    )"
   ]
  },
  {
   "cell_type": "markdown",
   "id": "satellite-depression",
   "metadata": {},
   "source": [
    "### Поиск подлинников\n",
    "\n",
    "(где получится - по онлайн-данным, где не получится - по сохраненным в excel)"
   ]
  },
  {
   "cell_type": "markdown",
   "id": "concrete-leader",
   "metadata": {},
   "source": [
    "Нишмагли проанализировать вообще:\n",
    "* МГУ (публикуется только уникальный номер конкурсного заявления, ни СНИЛСа, ни ФИО в списках нет)\n",
    "* ИТМО (публикуется только номер конкурсного заявления, ни СНИЛСа, ни ФИО в списках нет)"
   ]
  },
  {
   "cell_type": "markdown",
   "id": "juvenile-porter",
   "metadata": {},
   "source": [
    "**ВШЭ**"
   ]
  },
  {
   "cell_type": "code",
   "execution_count": null,
   "id": "individual-franklin",
   "metadata": {},
   "outputs": [],
   "source": [
    "hse_dict = {\n",
    "    \"01.03.02\": \"https://enrol.hse.ru/storage/public_report_2022/moscow/Bachelors/KS_M_B_OM_M_PMiI.xlsx\",\n",
    "    \"01.03.04\": \"https://enrol.hse.ru/storage/public_report_2022/moscow/Bachelors/KS_M_B_OM_M_PM.xlsx\",\n",
    "    \"09.03.01\": \"https://enrol.hse.ru/storage/public_report_2022/moscow/Bachelors/KS_M_B_OM_M_IVT.xlsx\",\n",
    "}"
   ]
  },
  {
   "cell_type": "code",
   "execution_count": null,
   "id": "pretty-missouri",
   "metadata": {},
   "outputs": [],
   "source": [
    "hse_spec = {}\n",
    "for spec in hse_dict:\n",
    "    try:\n",
    "        hse_spec[spec] = pd.read_excel(hse_dict[spec])\n",
    "        hse_spec[spec].columns = hse_spec[spec].iloc[14]\n",
    "        hse_spec[spec] = hse_spec[spec][36:]\n",
    "        hse_spec[spec] = hse_spec[spec].reset_index(drop=True)\n",
    "        hse_spec[spec] = hse_spec[spec].iloc[:,[i%2==0 for i in range(len(hse_spec[spec].columns))]]\n",
    "        hse_spec[spec][\"ВШЭ\"] = spec\n",
    "    except Exception as e:\n",
    "       print(\"пропустили\", hse_dict[spec], \"-\", e)\n",
    "# len(hse_spec)"
   ]
  },
  {
   "cell_type": "code",
   "execution_count": null,
   "id": "spare-accreditation",
   "metadata": {},
   "outputs": [],
   "source": [
    "hse_originals = []\n",
    "i = 0\n",
    "for spec in hse_spec:\n",
    "    hse_originals.append(hse_spec[spec][hse_spec[spec][\"Оригинал документа об образовании\"] == \"Да\"])\n",
    "    hse_originals[i] = hse_originals[i].reset_index(drop=True)\n",
    "# len(hse_originals)"
   ]
  },
  {
   "cell_type": "code",
   "execution_count": null,
   "id": "blind-voltage",
   "metadata": {},
   "outputs": [],
   "source": [
    "hse = pd.DataFrame({})\n",
    "for i in hse_originals:\n",
    "    hse = pd.concat([hse,i], ignore_index= True, sort=False)\n",
    "hse = hse.drop_duplicates()\n",
    "hse = hse.reset_index(drop=True)\n",
    "len(hse)"
   ]
  },
  {
   "cell_type": "markdown",
   "id": "strategic-reynolds",
   "metadata": {},
   "source": [
    "**МИФИ**"
   ]
  },
  {
   "cell_type": "code",
   "execution_count": null,
   "id": "mobile-chosen",
   "metadata": {},
   "outputs": [],
   "source": [
    "mephi_dict = {\n",
    "    \"01.03.02иикс\": \"https://org.mephi.ru/pupil-rating/get-rating/entity/9045/original/no\",\n",
    "    \"01.03.02иикс_пл\": \"https://org.mephi.ru/pupil-rating/get-rating/entity/9738/original/no\",\n",
    "    \"01.03.02лаплаз\": \"https://org.mephi.ru/pupil-rating/get-rating/entity/9043/original/no\",\n",
    "    \"01.03.02лаплаз_пл\": \"https://org.mephi.ru/pupil-rating/get-rating/entity/9737/original/no\",\n",
    "    \"03.03.01\": \"https://org.mephi.ru/pupil-rating/get-rating/entity/9047/original/no\",\n",
    "    \"03.03.01_пл\": \"https://org.mephi.ru/pupil-rating/get-rating/entity/9739/original/no\",\n",
    "    \"03.03.02\": \"https://org.mephi.ru/pupil-rating/get-rating/entity/9050/original/no\",\n",
    "    \"03.03.02_пл\": \"https://org.mephi.ru/pupil-rating/get-rating/entity/9740/original/no\",\n",
    "    \"09.03.00\": \"https://org.mephi.ru/pupil-rating/get-rating/entity/9052/original/no\",\n",
    "    \"09.03.01_пл\": \"https://org.mephi.ru/pupil-rating/get-rating/entity/9741/original/no\",\n",
    "    \"10.03.01иикс\": \"https://org.mephi.ru/pupil-rating/get-rating/entity/9054/original/no\",\n",
    "    \"10.03.01иикс_пл\": \"https://org.mephi.ru/pupil-rating/get-rating/entity/9743/original/no\",\n",
    "    \"10.03.01ифтэб\": \"https://org.mephi.ru/pupil-rating/get-rating/entity/9729/original/no\",\n",
    "    \"10.03.01ифтэб_пл\": \"https://org.mephi.ru/pupil-rating/get-rating/entity/9744/original/no\",\n",
    "    \"10.05.00\": \"https://org.mephi.ru/pupil-rating/get-rating/entity/9087/original/no\",\n",
    "    \"10.05.04_пл\": \"https://org.mephi.ru/pupil-rating/get-rating/entity/9761/original/no\",\n",
    "    \"10.05.05_пл\": \"https://org.mephi.ru/pupil-rating/get-rating/entity/9762/original/no\",\n",
    "    \"11.03.04\": \"https://org.mephi.ru/pupil-rating/get-rating/entity/9056/original/no\",\n",
    "    \"11.03.04_пл\": \"https://org.mephi.ru/pupil-rating/get-rating/entity/9745/original/no\",\n",
    "    \"12.03.01\": \"https://org.mephi.ru/pupil-rating/get-rating/entity/9059/original/no\",\n",
    "    \"12.03.01_пл\": \"https://org.mephi.ru/pupil-rating/get-rating/entity/9746/original/no\",\n",
    "    \"12.03.03\": \"https://org.mephi.ru/pupil-rating/get-rating/entity/9060/original/no\",\n",
    "    \"12.03.03_пл\": \"https://org.mephi.ru/pupil-rating/get-rating/entity/9747/original/no\",\n",
    "    \"12.03.04\": \"https://org.mephi.ru/pupil-rating/get-rating/entity/9062/original/no\",\n",
    "    \"12.03.04_пл\": \"https://org.mephi.ru/pupil-rating/get-rating/entity/9748/original/no\",\n",
    "    \"12.03.05\": \"https://org.mephi.ru/pupil-rating/get-rating/entity/9064/original/no\",\n",
    "    \"12.03.05_пл\": \"https://org.mephi.ru/pupil-rating/get-rating/entity/9749/original/no\",\n",
    "    \"15.03.00\": \"https://org.mephi.ru/pupil-rating/get-rating/entity/9068/original/no\",\n",
    "    \"15.03.06_пл\": \"https://org.mephi.ru/pupil-rating/get-rating/entity/9753/original/no\",\n",
    "    \"22.03.01\": \"https://org.mephi.ru/pupil-rating/get-rating/entity/9072/original/no\",\n",
    "    \"22.03.01_пл\": \"https://org.mephi.ru/pupil-rating/get-rating/entity/9755/original/no\",\n",
    "}"
   ]
  },
  {
   "cell_type": "code",
   "execution_count": null,
   "id": "married-manor",
   "metadata": {},
   "outputs": [],
   "source": [
    "mephi_spec = {}\n",
    "for spec in mephi_dict:\n",
    "    try:\n",
    "        read_html = pd.read_html(mephi_dict[spec], encoding=\"utf-8\")\n",
    "        mephi_spec[spec] = read_html[0]\n",
    "        for i in range(mephi_spec[spec].columns.nlevels-1, -1, -1):\n",
    "            if i != 1:\n",
    "                mephi_spec[spec] = mephi_spec[spec].droplevel(i, axis=1)\n",
    "        mephi_spec[spec][\"МИФИ\"] = spec\n",
    "    except Exception as e:\n",
    "       print(\"пропустили\", mephi_dict[spec], \"-\", e)\n",
    "# len(mephi_spec)"
   ]
  },
  {
   "cell_type": "code",
   "execution_count": null,
   "id": "stainless-breast",
   "metadata": {},
   "outputs": [],
   "source": [
    "mephi_originals = []\n",
    "i = 0\n",
    "for spec in mephi_spec:\n",
    "    mephi_originals.append(mephi_spec[spec][mephi_spec[spec][\"Документы\"] == \"Оригинал\"])\n",
    "    mephi_originals[i] = mephi_originals[i].reset_index(drop=True)\n",
    "# len(mephi_originals)"
   ]
  },
  {
   "cell_type": "code",
   "execution_count": null,
   "id": "finished-sympathy",
   "metadata": {},
   "outputs": [],
   "source": [
    "mephi = pd.DataFrame({})\n",
    "for i in mephi_originals:\n",
    "    mephi = pd.concat([mephi,i], ignore_index= True, sort=False)\n",
    "mephi = mephi.drop_duplicates()\n",
    "mephi = mephi.reset_index(drop=True)\n",
    "len(mephi)"
   ]
  },
  {
   "cell_type": "markdown",
   "id": "banner-dominican",
   "metadata": {},
   "source": [
    "**МФТИ**"
   ]
  },
  {
   "cell_type": "code",
   "execution_count": null,
   "id": "fewer-antibody",
   "metadata": {},
   "outputs": [],
   "source": [
    "mipt_dict = {\n",
    "    \"01.03.02\": path + \"МФТИ 01.03.02.xlsx\",\n",
    "    \"03.03.01\": path + \"МФТИ 03.03.01.xlsx\",\n",
    "    \"09.03.01\": path + \"МФТИ 09.03.01.xlsx\",\n",
    "    \"10.05.01\": path + \"МФТИ 01.03.02.xlsx\",\n",
    "    \"11.03.04\": path + \"МФТИ 03.03.01.xlsx\",\n",
    "    \"16.03.01\": path + \"МФТИ 09.03.01.xlsx\",\n",
    "    \"19.03.01\": path + \"МФТИ 09.03.01.xlsx\",\n",
    "    \"27.03.03\": path + \"МФТИ 09.03.01.xlsx\"    \n",
    "}"
   ]
  },
  {
   "cell_type": "code",
   "execution_count": null,
   "id": "celtic-polymer",
   "metadata": {},
   "outputs": [],
   "source": [
    "mipt_spec = {}\n",
    "for spec in mipt_dict:\n",
    "    try:\n",
    "        mipt_spec[spec] = pd.read_excel(mipt_dict[spec])\n",
    "        mipt_spec[spec][\"МФТИ\"] = spec\n",
    "    except Exception as e:\n",
    "       print(\"пропустили\", mipt_dict[spec], \"-\", e)\n",
    "# len(hse_spec)"
   ]
  },
  {
   "cell_type": "code",
   "execution_count": null,
   "id": "reserved-throat",
   "metadata": {},
   "outputs": [],
   "source": [
    "mipt_originals = []\n",
    "i = 0\n",
    "for spec in mipt_spec:\n",
    "    mipt_originals.append(mipt_spec[spec][mipt_spec[spec][\"ДО\"] == \"Оригинал\"])\n",
    "    mipt_originals[i] = mipt_originals[i].reset_index(drop=True)\n",
    "# len(mipt_originals)"
   ]
  },
  {
   "cell_type": "code",
   "execution_count": null,
   "id": "mobile-expense",
   "metadata": {},
   "outputs": [],
   "source": [
    "mipt = pd.DataFrame({})\n",
    "for i in mipt_originals:\n",
    "    mipt = pd.concat([mipt,i], ignore_index= True, sort=False)\n",
    "mipt = mipt.drop_duplicates()\n",
    "mipt = mipt.reset_index(drop=True)\n",
    "len(mipt)"
   ]
  },
  {
   "cell_type": "markdown",
   "id": "authentic-ozone",
   "metadata": {},
   "source": [
    "**МАИ**"
   ]
  },
  {
   "cell_type": "code",
   "execution_count": null,
   "id": "existing-zambia",
   "metadata": {},
   "outputs": [],
   "source": [
    "mai_dict = {\n",
    "    \"01.03.00\": path + \"МАИ 01.03.00.xlsx\",\n",
    "    \"02.03.02\": path + \"МАИ 02.03.02.xlsx\",\n",
    "    \"09.03.01\": path + \"МАИ 09.03.01.xlsx\",\n",
    "    \"09.03.02\": path + \"МАИ 09.03.02.xlsx\",\n",
    "    \"09.03.03\": path + \"МАИ 09.03.03.xlsx\",\n",
    "    \"10.03.01\": path + \"МАИ 10.03.01.xlsx\",\n",
    "    \"11.03.01\": path + \"МАИ 11.03.01.xlsx\",\n",
    "    \"11.03.02\": path + \"МАИ 11.03.02.xlsx\",\n",
    "    \"11.03.03\": path + \"МАИ 11.03.03.xlsx\",\n",
    "    \"12.03.04\": path + \"МАИ 12.03.04.xlsx\",\n",
    "    \"13.03.02\": path + \"МАИ 13.03.02.xlsx\",\n",
    "    \"15.03.03\": path + \"МАИ 15.03.03.xlsx\",\n",
    "    \"22.03.00\": path + \"МАИ 22.03.00.xlsx\",\n",
    "}"
   ]
  },
  {
   "cell_type": "code",
   "execution_count": null,
   "id": "friendly-hours",
   "metadata": {},
   "outputs": [],
   "source": [
    "mai_spec = {}\n",
    "for spec in mai_dict:\n",
    "    try:\n",
    "        mai_spec[spec] = pd.read_excel(mai_dict[spec])\n",
    "        mai_spec[spec][\"МАИ\"] = spec\n",
    "    except Exception as e:\n",
    "       print(\"пропустили\", mai_dict[spec], \"-\", e)\n",
    "# len(mai_spec)"
   ]
  },
  {
   "cell_type": "code",
   "execution_count": null,
   "id": "conceptual-redhead",
   "metadata": {},
   "outputs": [],
   "source": [
    "mai_originals = []\n",
    "i = 0\n",
    "for spec in mai_spec:\n",
    "    mai_originals.append(mai_spec[spec][mai_spec[spec][\"Подлинник или копия документа об образовании\"] == \"Подлинник\"])\n",
    "    mai_originals[i] = mai_originals[i].reset_index(drop=True)\n",
    "# len(mai_originals)"
   ]
  },
  {
   "cell_type": "code",
   "execution_count": null,
   "id": "local-circular",
   "metadata": {},
   "outputs": [],
   "source": [
    "mai = pd.DataFrame({})\n",
    "for i in mai_originals:\n",
    "    mai = pd.concat([mai,i], ignore_index= True, sort=False)\n",
    "mai = mai.drop_duplicates()\n",
    "mai = mai.reset_index(drop=True)\n",
    "# len(mai)\n",
    "mai"
   ]
  },
  {
   "cell_type": "markdown",
   "id": "architectural-publisher",
   "metadata": {},
   "source": [
    "**МЭИ**"
   ]
  },
  {
   "cell_type": "code",
   "execution_count": null,
   "id": "hidden-handle",
   "metadata": {},
   "outputs": [],
   "source": [
    "mpei_dict = {\n",
    "    \"01.03.02\": \"https://pk.mpei.ru/inform/list581bacc.html\",\n",
    "    \"01.03.02_пл7\": \"https://pk.mpei.ru/inform/list582bacpa.html\",\n",
    "    \"01.03.02_пл14\": \"https://pk.mpei.ru/inform/list582bacpb.html\",\n",
    "    \"01.03.02_пл28\": \"https://pk.mpei.ru/inform/list582bacpc.html\",\n",
    "    \"01.03.02мм\": \"https://pk.mpei.ru/inform/list16bacc.html\",\n",
    "    \"01.03.02мм_пл7\": \"https://pk.mpei.ru/inform/list48bacpa.html\",\n",
    "    \"01.03.02мм_пл14\": \"https://pk.mpei.ru/inform/list48bacpb.html\",\n",
    "    \"01.03.02мм_пл28\": \"https://pk.mpei.ru/inform/list48bacpc.html\",\n",
    "    \"09.03.01\": \"https://pk.mpei.ru/inform/list16bacc.html\",\n",
    "    \"09.03.01_пл7\": \"https://pk.mpei.ru/inform/list49bacpa.html\",\n",
    "    \"09.03.01_пл14\": \"https://pk.mpei.ru/inform/list49bacpb.html\",\n",
    "    \"09.03.01_пл28\": \"https://pk.mpei.ru/inform/list49bacpc.html\",\n",
    "    \"09.03.03\": \"https://pk.mpei.ru/inform/list35bacc.html\",\n",
    "    \"09.03.03_пл7\": \"https://pk.mpei.ru/inform/list56bacpa.html\",\n",
    "    \"09.03.03_пл14\": \"https://pk.mpei.ru/inform/list56bacpb.html\",\n",
    "    \"09.03.03_пл28\": \"https://pk.mpei.ru/inform/list56bacpc.html\",\n",
    "    \"10.03.01\": \"https://pk.mpei.ru/inform/list22bacc.html\",\n",
    "    \"10.03.01_пл7\": \"https://pk.mpei.ru/inform/list57bacpa.html\",\n",
    "    \"10.03.01_пл14\": \"https://pk.mpei.ru/inform/list57bacpb.html\",\n",
    "    \"10.03.01_пл28\": \"https://pk.mpei.ru/inform/list57bacpc.html\",\n",
    "    \"11.03.01\": \"https://pk.mpei.ru/inform/list19bacc.html\",\n",
    "    \"11.03.01_пл7\": \"https://pk.mpei.ru/inform/list53bacpa.html\",\n",
    "    \"11.03.01_пл14\": \"https://pk.mpei.ru/inform/list53bacpb.html\",\n",
    "    \"11.03.01_пл28\": \"https://pk.mpei.ru/inform/list53bacpc.html\",\n",
    "    \"11.03.04\": \"https://pk.mpei.ru/inform/list10bacc.html\",\n",
    "    \"11.03.04_пл7\": \"https://pk.mpei.ru/inform/list47bacpa.html\",\n",
    "    \"11.03.04_пл14\": \"https://pk.mpei.ru/inform/list47bacpb.html\",\n",
    "    \"11.03.04_пл28\": \"https://pk.mpei.ru/inform/list47bacpc.html\",\n",
    "    \"11.03.04нн\": \"https://pk.mpei.ru/inform/list959bacc.html\",\n",
    "    \"11.03.04нн_пл7\": \"https://pk.mpei.ru/inform/list960bacpa.html\",\n",
    "    \"11.03.04нн_пл14\": \"https://pk.mpei.ru/inform/list960bacpb.html\",\n",
    "    \"11.03.04нн_пл28\": \"https://pk.mpei.ru/inform/list960bacpc.html\",\n",
    "    \"11.05.01\": \"https://pk.mpei.ru/inform/list20bacc.html\",\n",
    "    \"11.05.01_пл7\": \"https://pk.mpei.ru/inform/list55bacpa.html\",\n",
    "    \"11.05.01_пл14\": \"https://pk.mpei.ru/inform/list55bacpb.html\",\n",
    "    \"11.05.01_пл28\": \"https://pk.mpei.ru/inform/list55bacpc.html\",\n",
    "    \"12.03.04\": \"https://pk.mpei.ru/inform/list15bacc.html\",\n",
    "    \"12.03.04_пл7\": \"https://pk.mpei.ru/inform/list51bacpa.html\",\n",
    "    \"12.03.04_пл14\": \"https://pk.mpei.ru/inform/list51bacpb.html\",\n",
    "    \"12.03.04_пл28\": \"https://pk.mpei.ru/inform/list51bacpc.html\",\n",
    "    \"15.03.01\": \"https://pk.mpei.ru/inform/list1bacc.html\",\n",
    "    \"15.03.01_пл7\": \"https://pk.mpei.ru/inform/list33bacpa.html\",\n",
    "    \"15.03.01_пл14\": \"https://pk.mpei.ru/inform/list33bacpb.html\",\n",
    "    \"15.03.01_пл28\": \"https://pk.mpei.ru/inform/list33bacpc.html\"\n",
    "}"
   ]
  },
  {
   "cell_type": "code",
   "execution_count": null,
   "id": "engaged-nursery",
   "metadata": {},
   "outputs": [],
   "source": [
    "mpei_spec = {}\n",
    "for spec in mpei_dict:\n",
    "#     print(mpei_dict[spec])\n",
    "    try:\n",
    "        read_html = pd.read_html(mpei_dict[spec])\n",
    "        if len(read_html) == 2:\n",
    "            mpei_spec[spec] = pd.concat([read_html[0], read_html[1]], sort=False)\n",
    "        else:\n",
    "            mpei_spec[spec] = read_html[0]\n",
    "        mpei_spec[spec].columns = mpei_spec[spec].iloc[1]\n",
    "        mpei_spec[spec] = mpei_spec[spec][2:]\n",
    "        mpei_spec[spec] = mpei_spec[spec].reset_index(drop=True)\n",
    "        mpei_spec[spec][\"СНИЛС или Рег.номер\"] = mpei_spec[spec][\"СНИЛС или Рег.номер\"].replace(\n",
    "            to_replace=r\"(\\w*:\\s*)(\\d{3})(\\d{3})(\\d{3})(\\d{2})\", \n",
    "            value=r\"\\2-\\3-\\4 \\5\", \n",
    "            regex=True)\n",
    "        mpei_spec[spec][\"МЭИ\"] = spec\n",
    "    except Exception as e:\n",
    "       print(\"пропустили\", mpei_dict[spec], \"-\", e)\n",
    "# len(mpei_spec)"
   ]
  },
  {
   "cell_type": "code",
   "execution_count": null,
   "id": "owned-typing",
   "metadata": {},
   "outputs": [],
   "source": [
    "mpei_agree = []\n",
    "i = 0\n",
    "for spec in mpei_spec:\n",
    "    mpei_agree.append(mpei_spec[spec][mpei_spec[spec][\"Согласие\"] == \"подано\"])\n",
    "    mpei_agree[i] = mpei_agree[i].reset_index(drop=True)\n",
    "# len(mpei_agree)"
   ]
  },
  {
   "cell_type": "code",
   "execution_count": null,
   "id": "aging-designer",
   "metadata": {},
   "outputs": [],
   "source": [
    "mpei = pd.DataFrame({})\n",
    "for i in mpei_agree:\n",
    "    mpei = pd.concat([mpei,i], ignore_index= True, sort=False)\n",
    "mpei = mpei.drop_duplicates()\n",
    "mpei = mpei.reset_index(drop=True)\n",
    "len(mpei)"
   ]
  },
  {
   "cell_type": "markdown",
   "id": "vital-steering",
   "metadata": {},
   "source": [
    "**МИСиС**"
   ]
  },
  {
   "cell_type": "code",
   "execution_count": null,
   "id": "bigger-trunk",
   "metadata": {},
   "outputs": [],
   "source": [
    "misis_dict = {\n",
    "    \"01.03.04\": \"https://misis.ru/applicants/admission/progress/baccalaureate-and-specialties/list-of-applicants/list/?id=BAC-BUDJ-O-010304\",\n",
    "    \"01.03.04_пл\": \"https://misis.ru/applicants/admission/progress/baccalaureate-and-specialties/list-of-applicants/list/?id=BAC-COMM-O-010304\",\n",
    "    \"03.03.02\": \"https://misis.ru/applicants/admission/progress/baccalaureate-and-specialties/list-of-applicants/list/?id=BAC-BUDJ-O-030302\",\n",
    "    \"03.03.02_пл\": \"https://misis.ru/applicants/admission/progress/baccalaureate-and-specialties/list-of-applicants/list/?id=BAC-COMM-O-030302\",\n",
    "    \"09.03.00\": \"https://misis.ru/applicants/admission/progress/baccalaureate-and-specialties/list-of-applicants/list/?id=BAC-BUDJ-O-090300\",\n",
    "    \"09.03.00_пл\": \"https://misis.ru/applicants/admission/progress/baccalaureate-and-specialties/list-of-applicants/list/?id=BAC-COMM-O-090300\",\n",
    "    \"11.03.04\": \"https://misis.ru/applicants/admission/progress/baccalaureate-and-specialties/list-of-applicants/list/?id=BAC-BUDJ-O-110304\",\n",
    "    \"11.03.04_пл\": \"https://misis.ru/applicants/admission/progress/baccalaureate-and-specialties/list-of-applicants/list/?id=BAC-COMM-O-110304\",\n",
    "    \"13.03.02\": \"https://misis.ru/applicants/admission/progress/baccalaureate-and-specialties/list-of-applicants/list/?id=BAC-BUDJ-O-150302\",\n",
    "    \"13.03.02_пл\": \"https://misis.ru/applicants/admission/progress/baccalaureate-and-specialties/list-of-applicants/list/?id=BAC-BUDJ-O-130302\",\n",
    "    \"15.03.02\": \"https://misis.ru/applicants/admission/progress/baccalaureate-and-specialties/list-of-applicants/list/?id=BAC-BUDJ-O-150302\",\n",
    "    \"15.03.02_пл\": \"https://misis.ru/applicants/admission/progress/baccalaureate-and-specialties/list-of-applicants/list/?id=BAC-COMM-O-150302\",\n",
    "    \"21.05.00\": \"https://misis.ru/applicants/admission/progress/baccalaureate-and-specialties/list-of-applicants/list/?id=SPEC-BUDJ-O-210500\",\n",
    "    \"21.05.00_пл\": \"https://misis.ru/applicants/admission/progress/baccalaureate-and-specialties/list-of-applicants/list/?id=SPEC-COMM-O-210500\",\n",
    "    \"22.03.01\": \"https://misis.ru/applicants/admission/progress/baccalaureate-and-specialties/list-of-applicants/list/?id=BAC-BUDJ-O-220301\",\n",
    "    \"22.03.01_пл\": \"https://misis.ru/applicants/admission/progress/baccalaureate-and-specialties/list-of-applicants/list/?id=BAC-COMM-O-220301\",\n",
    "    \"28.03.00\": \"https://misis.ru/applicants/admission/progress/baccalaureate-and-specialties/list-of-applicants/list/?id=BAC-BUDJ-O-280300\",\n",
    "    \"28.03.00_пл\": \"https://misis.ru/applicants/admission/progress/baccalaureate-and-specialties/list-of-applicants/list/?id=BAC-COMM-O-280300\"\n",
    "}"
   ]
  },
  {
   "cell_type": "code",
   "execution_count": null,
   "id": "suited-validation",
   "metadata": {},
   "outputs": [],
   "source": [
    "misis_spec = {}\n",
    "for spec in misis_dict:\n",
    "    try:\n",
    "        read_html = pd.read_html(misis_dict[spec])\n",
    "        misis_spec[spec] = read_html[0]\n",
    "        misis_spec[spec][\"МИСиС\"] = spec\n",
    "        misis_spec[spec] = misis_spec[spec].droplevel(1, axis=1)\n",
    "    except Exception as e:\n",
    "       print(\"пропустили\", misis_dict[spec], \"-\", e)\n",
    "# len(misis_spec)"
   ]
  },
  {
   "cell_type": "code",
   "execution_count": null,
   "id": "electric-weekly",
   "metadata": {},
   "outputs": [],
   "source": [
    "misis_originals = []\n",
    "i = 0\n",
    "for spec in misis_spec:\n",
    "    misis_originals.append(misis_spec[spec][misis_spec[spec][\"Оригинал\"] == \"+\"])\n",
    "    misis_originals[i] = misis_originals[i].reset_index(drop=True)\n",
    "# len(misis_originals)"
   ]
  },
  {
   "cell_type": "code",
   "execution_count": null,
   "id": "residential-berry",
   "metadata": {},
   "outputs": [],
   "source": [
    "misis = pd.DataFrame({})\n",
    "for i in misis_originals:\n",
    "    misis = pd.concat([misis,i], ignore_index= True, sort=False)\n",
    "misis = misis.drop_duplicates()\n",
    "misis = misis.reset_index(drop=True)\n",
    "len(misis)"
   ]
  },
  {
   "cell_type": "markdown",
   "id": "supposed-camel",
   "metadata": {},
   "source": [
    "**МИРЭА**"
   ]
  },
  {
   "cell_type": "code",
   "execution_count": null,
   "id": "elect-tutorial",
   "metadata": {},
   "outputs": [],
   "source": [
    "mirea_dict = {\n",
    "    \"01.03.02\": \"https://priem.mirea.ru/accepted-entrants-list/personal_code_rating.php?competition=1712416774837808438\",\n",
    "    \"01.03.02_пл\": \"https://priem.mirea.ru/accepted-entrants-list/personal_code_rating.php?competition=1712416774839905590\",\n",
    "    \"01.03.04\": \"https://priem.mirea.ru/accepted-entrants-list/personal_code_rating.php?competition=1712416794849881398\",\n",
    "    \"01.03.04_пл\": \"https://priem.mirea.ru/accepted-entrants-list/personal_code_rating.php?competition=1712416794851978550\",\n",
    "    \"09.03.01иии\": \"https://priem.mirea.ru/accepted-entrants-list/personal_code_rating.php?competition=1712417222681472310\",\n",
    "    \"09.03.01иии_пл\": \"https://priem.mirea.ru/accepted-entrants-list/personal_code_rating.php?competition=1712417222683569462\",\n",
    "    \"09.03.01иит\": \"https://priem.mirea.ru/accepted-entrants-list/personal_code_rating.php?competition=1712416831985200438\",\n",
    "    \"09.03.01иит_пл\": \"https://priem.mirea.ru/accepted-entrants-list/personal_code_rating.php?competition=1712416831987297590\",\n",
    "    \"09.03.02икб\": \"https://priem.mirea.ru/accepted-entrants-list/personal_code_rating.php?competition=1712417235799158070\",\n",
    "    \"09.03.02икб_пл\": \"https://priem.mirea.ru/accepted-entrants-list/personal_code_rating.php?competition=1712417235801255222\",\n",
    "    \"09.03.02ири\": \"https://priem.mirea.ru/accepted-entrants-list/personal_code_rating.php?competition=1712417616938708278\",\n",
    "    \"09.03.02ири_пл\": \"https://priem.mirea.ru/accepted-entrants-list/personal_code_rating.php?competition=1712417616940805430\",\n",
    "    \"09.03.02кд\": \"https://priem.mirea.ru/accepted-entrants-list/personal_code_rating.php?competition=1712417608956947766\",\n",
    "    \"09.03.02кд_пл\": \"https://priem.mirea.ru/accepted-entrants-list/personal_code_rating.php?competition=1712417608959044918\",\n",
    "    \"09.03.02фр\": \"https://priem.mirea.ru/accepted-entrants-list/personal_code_rating.php?competition=1714956156281072950\",\n",
    "    \"09.03.02фр_пл\": \"https://priem.mirea.ru/accepted-entrants-list/personal_code_rating.php?competition=1714956156283170102\",\n",
    "    \"09.03.03\": \"https://priem.mirea.ru/accepted-entrants-list/personal_code_rating.php?competition=1712417600979381558\",\n",
    "    \"09.03.03_пл\": \"https://priem.mirea.ru/accepted-entrants-list/personal_code_rating.php?competition=1712417600981478710\",\n",
    "    \"09.03.04\": \"https://priem.mirea.ru/accepted-entrants-list/personal_code_rating.php?competition=1712417591424757046\",\n",
    "    \"09.03.04_пл\": \"https://priem.mirea.ru/accepted-entrants-list/personal_code_rating.php?competition=1712417591426854198\",\n",
    "    \"10.03.01\": \"https://priem.mirea.ru/accepted-entrants-list/personal_code_rating.php?competition=1712417582796025142\",\n",
    "    \"10.03.01_пл\": \"https://priem.mirea.ru/accepted-entrants-list/personal_code_rating.php?competition=1712417582798122294\",\n",
    "    \"11.03.01\": \"https://priem.mirea.ru/accepted-entrants-list/personal_code_rating.php?competition=1712417535526219062\",\n",
    "    \"11.03.01_пл\": \"https://priem.mirea.ru/accepted-entrants-list/personal_code_rating.php?competition=1712417535528316214\",\n",
    "    \"11.03.02\": \"https://priem.mirea.ru/accepted-entrants-list/personal_code_rating.php?competition=1712417522705280310\",\n",
    "    \"11.03.02_пл\": \"https://priem.mirea.ru/accepted-entrants-list/personal_code_rating.php?competition=1712417522707377462\",\n",
    "    \"11.03.03\": \"https://priem.mirea.ru/accepted-entrants-list/personal_code_rating.php?competition=1712417515145047350\",\n",
    "    \"11.03.03_пл\": \"https://priem.mirea.ru/accepted-entrants-list/personal_code_rating.php?competition=1712417515147144502\",\n",
    "    \"11.03.04\": \"https://priem.mirea.ru/accepted-entrants-list/personal_code_rating.php?competition=1712417506900094262\",\n",
    "    \"11.03.04_пл\": \"https://priem.mirea.ru/accepted-entrants-list/personal_code_rating.php?competition=1712417506902191414\",\n",
    "    \"11.05.01\": \"https://priem.mirea.ru/accepted-entrants-list/personal_code_rating.php?competition=1712417497502756150\",\n",
    "    \"11.05.01_пл\": \"https://priem.mirea.ru/accepted-entrants-list/personal_code_rating.php?competition=1712417497504853302\",\n",
    "    \"12.03.01\": \"https://priem.mirea.ru/accepted-entrants-list/personal_code_rating.php?competition=1712417490279116086\",\n",
    "    \"12.03.01_пл\": \"https://priem.mirea.ru/accepted-entrants-list/personal_code_rating.php?competition=1712417490281213238\",\n",
    "    \"12.03.04\": \"https://priem.mirea.ru/accepted-entrants-list/personal_code_rating.php?competition=1712417482846809398\",\n",
    "    \"12.03.04_пл\": \"https://priem.mirea.ru/accepted-entrants-list/personal_code_rating.php?competition=1712417482848906550\",\n",
    "    \"12.03.05\": \"https://priem.mirea.ru/accepted-entrants-list/personal_code_rating.php?competition=1712417475758435638\",\n",
    "    \"12.03.05_пл\": \"https://priem.mirea.ru/accepted-entrants-list/personal_code_rating.php?competition=1712417475760532790\",\n",
    "    \"12.05.01\": \"https://priem.mirea.ru/accepted-entrants-list/personal_code_rating.php?competition=1712417468490755382\",\n",
    "    \"12.05.01_пл\": \"https://priem.mirea.ru/accepted-entrants-list/personal_code_rating.php?competition=1712417468492852534\",\n",
    "    \"15.03.06\": \"https://priem.mirea.ru/accepted-entrants-list/personal_code_rating.php?competition=1712417442958978358\",\n",
    "    \"15.03.06_пл\": \"https://priem.mirea.ru/accepted-entrants-list/personal_code_rating.php?competition=1712417442961075510\",\n",
    "    \"22.03.01\": \"https://priem.mirea.ru/accepted-entrants-list/personal_code_rating.php?competition=1712417406008208694\",\n",
    "    \"22.03.01_пл\": \"https://priem.mirea.ru/accepted-entrants-list/personal_code_rating.php?competition=1712417406010305846\",\n",
    "    \"27.03.05\": \"https://priem.mirea.ru/accepted-entrants-list/personal_code_rating.php?competition=1712417380017155382\",\n",
    "    \"27.03.05_пл\": \"https://priem.mirea.ru/accepted-entrants-list/personal_code_rating.php?competition=1712417380019252534\",\n",
    "    \"28.03.01\": \"https://priem.mirea.ru/accepted-entrants-list/personal_code_rating.php?competition=1712417372125572406\",\n",
    "    \"28.03.01_пл\": \"https://priem.mirea.ru/accepted-entrants-list/personal_code_rating.php?competition=1712417372127669558\"\n",
    "}"
   ]
  },
  {
   "cell_type": "code",
   "execution_count": null,
   "id": "vertical-pursuit",
   "metadata": {},
   "outputs": [],
   "source": [
    "mirea_spec = {}\n",
    "for spec in mirea_dict:\n",
    "    try:\n",
    "        read_html = pd.read_html(mirea_dict[spec])\n",
    "        mirea_spec[spec] = read_html[0]\n",
    "        mirea_spec[spec][\"МИРЭА\"] = spec\n",
    "        mirea_spec[spec][\"СНИЛС/уникальный номер\"] = mirea_spec[spec][\"СНИЛС/уникальный номер\"].replace(\n",
    "            to_replace=r\"(\\d{3}-\\d{3}-\\d{3})-(\\d{2})\", \n",
    "            value=r\"\\1 \\2\", \n",
    "            regex=True)\n",
    "    except Exception as e:\n",
    "       print(\"пропустили\", mirea_dict[spec], \"-\", e)\n",
    "# len(mirea_spec)"
   ]
  },
  {
   "cell_type": "code",
   "execution_count": null,
   "id": "specified-celtic",
   "metadata": {},
   "outputs": [],
   "source": [
    "mirea_originals = []\n",
    "i = 0\n",
    "for spec in mirea_spec:\n",
    "    mirea_originals.append(mirea_spec[spec][mirea_spec[spec][\"Наличие подлинника/отметки о подлиннике с ЕПГУ\"] == \"да\"])\n",
    "    mirea_originals[i] = mirea_originals[i].reset_index(drop=True)\n",
    "# len(mirea_originals)"
   ]
  },
  {
   "cell_type": "code",
   "execution_count": null,
   "id": "suspended-coordinate",
   "metadata": {},
   "outputs": [],
   "source": [
    "mirea = pd.DataFrame({})\n",
    "for i in mirea_originals:\n",
    "    mirea = pd.concat([mirea,i], ignore_index= True, sort=False)\n",
    "mirea = mirea.drop_duplicates()\n",
    "mirea = mirea.reset_index(drop=True)\n",
    "len(mirea)"
   ]
  },
  {
   "cell_type": "markdown",
   "id": "disabled-symphony",
   "metadata": {},
   "source": [
    "**МИИГАиК**"
   ]
  },
  {
   "cell_type": "code",
   "execution_count": null,
   "id": "senior-persian",
   "metadata": {},
   "outputs": [],
   "source": [
    "miigaik_dict = {\n",
    "    \"09.03.02\": path + \"МИИГАиК 09.03.02.xlsx\",\n",
    "    \"09.03.03\": path + \"МИИГАиК 09.03.03.xlsx\",\n",
    "    \"12.03.02\": path + \"МИИГАиК 12.03.02.xlsx\",\n",
    "    \"12.03.05\": path + \"МИИГАиК 12.03.05.xlsx\"\n",
    "}"
   ]
  },
  {
   "cell_type": "code",
   "execution_count": null,
   "id": "adjacent-conservation",
   "metadata": {},
   "outputs": [],
   "source": [
    "miigaik_spec = {}\n",
    "for spec in miigaik_dict:\n",
    "    try:\n",
    "        miigaik_spec[spec] = pd.read_excel(miigaik_dict[spec])\n",
    "        miigaik_spec[spec][\"МИИГАиК\"] = spec\n",
    "    except Exception as e:\n",
    "       print(\"пропустили\", miigaik_dict[spec], \"-\", e)\n",
    "# len(miigaik_spec)"
   ]
  },
  {
   "cell_type": "code",
   "execution_count": null,
   "id": "honest-success",
   "metadata": {},
   "outputs": [],
   "source": [
    "miigaik_originals = []\n",
    "i = 0\n",
    "for spec in miigaik_spec:\n",
    "    miigaik_originals.append(miigaik_spec[spec][miigaik_spec[spec][\"Тип документа\"] == \"Оригинал\"])\n",
    "    miigaik_originals[i] = miigaik_originals[i].reset_index(drop=True)\n",
    "# len(miigaik_originals)"
   ]
  },
  {
   "cell_type": "code",
   "execution_count": null,
   "id": "analyzed-playing",
   "metadata": {},
   "outputs": [],
   "source": [
    "miigaik = pd.DataFrame({})\n",
    "for i in miigaik_originals:\n",
    "    miigaik = pd.concat([miigaik,i], ignore_index= True, sort=False)\n",
    "miigaik = miigaik.drop_duplicates()\n",
    "miigaik = miigaik.reset_index(drop=True)\n",
    "len(miigaik)"
   ]
  },
  {
   "cell_type": "markdown",
   "id": "effective-warrant",
   "metadata": {},
   "source": [
    "**РЭУ**"
   ]
  },
  {
   "cell_type": "code",
   "execution_count": null,
   "id": "selected-amino",
   "metadata": {},
   "outputs": [],
   "source": [
    "rea_dict = {\n",
    "    \"01.03.02\": \"https://abitlist.rea.ru/Home/ViewList?listId=B12DA8D4\",\n",
    "    \"01.03.02_пл\": \"https://abitlist.rea.ru/Home/ViewList?listId=BE3438AC\",\n",
    "    \"09.03.02\": \"https://abitlist.rea.ru/Home/ViewList?listId=85D92D63\",\n",
    "    \"09.03.02_пл\": \"https://abitlist.rea.ru/Home/ViewList?listId=EA9BE83F\",\n",
    "    \"09.03.03\": \"https://abitlist.rea.ru/Home/ViewList?listId=784461D9\",\n",
    "    \"09.03.03_пл\": \"https://abitlist.rea.ru/Home/ViewList?listId=3EFFB49E\",\n",
    "    \"10.03.01\": \"https://abitlist.rea.ru/Home/ViewList?listId=1F6F5D1E\",\n",
    "    \"10.03.01_пл\": \"https://abitlist.rea.ru/Home/ViewList?listId=6C683A8F\",\n",
    "    \"15.03.02\": \"https://abitlist.rea.ru/Home/ViewList?listId=BC5F4B67\",\n",
    "    \"15.03.02_пл\": \"https://abitlist.rea.ru/Home/ViewList?listId=84F01F3C\",\n",
    "    \"27.03.05_пл\": \"https://abitlist.rea.ru/Home/ViewList?listId=592B36B4\"\n",
    "}"
   ]
  },
  {
   "cell_type": "code",
   "execution_count": null,
   "id": "forced-pride",
   "metadata": {
    "scrolled": false
   },
   "outputs": [],
   "source": [
    "rea_spec = {}\n",
    "for spec in rea_dict:\n",
    "    try:\n",
    "        read_html = pd.read_html(rea_dict[spec])\n",
    "        rea_spec[spec] = read_html[0]\n",
    "        rea_spec[spec][\"РЭУ\"] = spec\n",
    "        rea_spec[spec][\"СНИЛС\"] = rea_spec[spec][\"СНИЛС\"].replace(\n",
    "            to_replace=r\"(\\d{3})\\D*(\\d{3})\\D*(\\d{3})\\D*(\\d{2})\", \n",
    "            value=r\"\\1-\\2-\\3 \\4\", \n",
    "            regex=True)\n",
    "    except Exception as e:\n",
    "       print(\"пропустили\", rea_dict[spec], \"-\", e)\n",
    "# len(rea_spec)"
   ]
  },
  {
   "cell_type": "code",
   "execution_count": null,
   "id": "extreme-italy",
   "metadata": {
    "scrolled": false
   },
   "outputs": [],
   "source": [
    "rea_originals = []\n",
    "i = 0\n",
    "for spec in rea_spec:\n",
    "    rea_originals.append(rea_spec[spec][rea_spec[spec][\"Оригинал\"] == \"Да\"])\n",
    "    rea_originals[i] = rea_originals[i].reset_index(drop=True)\n",
    "# len(rea_originals)"
   ]
  },
  {
   "cell_type": "code",
   "execution_count": null,
   "id": "working-vision",
   "metadata": {
    "scrolled": false
   },
   "outputs": [],
   "source": [
    "rea = pd.DataFrame({})\n",
    "for i in rea_originals:\n",
    "    rea = pd.concat([rea,i], ignore_index= True, sort=False)\n",
    "rea = rea.drop_duplicates()\n",
    "rea = rea.reset_index(drop=True)\n",
    "len(rea)"
   ]
  },
  {
   "cell_type": "markdown",
   "id": "representative-concentrate",
   "metadata": {},
   "source": [
    "**1-й Мед**\n",
    "\n",
    "(пока выключила, всё равно никого не находится)"
   ]
  },
  {
   "cell_type": "code",
   "execution_count": null,
   "id": "focal-running",
   "metadata": {},
   "outputs": [],
   "source": [
    "# онлайн forbidden, сохранять отсюда: \n",
    "# https://www.sechenov.ru/admissions/priemnaya-kampaniya-2022/ranzhirovannye-spiski-postupayushchikh-2022-2023/\n",
    "sechenov_path = path + \"sechenov.pdf\"\n",
    "sechenov_df = read_pdf(sechenov_path, pages='all')\n",
    "# len(sechenov_df)"
   ]
  },
  {
   "cell_type": "code",
   "execution_count": null,
   "id": "dynamic-nursery",
   "metadata": {},
   "outputs": [],
   "source": [
    "pages = []\n",
    "for i in range(len(sechenov_df)):\n",
    "    pages.append(sechenov_df[i])\n",
    "sechenov_concurs = pd.concat(pages, sort=False)\n",
    "sechenov_concurs.columns = sechenov_concurs.iloc[0]\n",
    "sechenov_concurs = sechenov_concurs[2:]\n",
    "sechenov_concurs[\"Идентифика\\rтор\"] = sechenov_concurs[\"Идентифика\\rтор\"].replace(\n",
    "    to_replace=r\"(\\d{3}-\\d{3}-\\d{3})(\\s*)(\\d{2})\", \n",
    "    value=r\"\\1 \\3\", \n",
    "    regex=True)\n",
    "sechenov_concurs[\"1Мед\"] = \"Да\"\n",
    "sechenov_originals = sechenov_concurs[sechenov_concurs[\"Наличие\\rоригинала\\rда / нет\"]==\"Да\"]\n",
    "# sechenov_originals[\"1Мед\"] = \"Да\"\n",
    "sechenov_originals = sechenov_originals.reset_index(drop=True)\n",
    "len(sechenov_originals)"
   ]
  },
  {
   "cell_type": "markdown",
   "id": "continuing-civilian",
   "metadata": {},
   "source": [
    "**СПбГУ**"
   ]
  },
  {
   "cell_type": "code",
   "execution_count": null,
   "id": "front-highland",
   "metadata": {},
   "outputs": [],
   "source": [
    "spbu_dict = {\n",
    "    \"01.03.01_5000\": \"https://cabinet.spbu.ru/Lists/1k_Rating/list_8ea405e1-7f6e-4ff7-b0bd-fc9d2647bb54.html\",\n",
    "    \"01.03.02_5005\": \"https://cabinet.spbu.ru/Lists/1k_Rating/list_2df3cab7-781a-4467-be96-3302b6f105ae.html\",\n",
    "    \"01.03.02_5156\": \"https://cabinet.spbu.ru/Lists/1k_Rating/list_071a53e5-c6b0-4134-a89f-793db1c177d9.html\",\n",
    "    \"01.03.02_5231\": \"https://cabinet.spbu.ru/Lists/1k_Rating/list_2257c623-1e5e-4c86-b0af-655de0a99871.html\",\n",
    "    \"01.03.03_5008\": \"https://cabinet.spbu.ru/Lists/1k_Rating/list_846c2a25-562d-4005-9a39-a54804b939e7.html\",\n",
    "    \"01.05.01_5088\": \"https://cabinet.spbu.ru/Lists/1k_Rating/list_0aa95bd2-8183-4273-a61f-88fdab9f9d16.html\",\n",
    "    \"01.05.01_5089\": \"https://cabinet.spbu.ru/Lists/1k_Rating/list_b9167a2a-6eae-4b3b-8efd-19f0360b5214.html\",\n",
    "    \"02.03.01_5001\": \"https://cabinet.spbu.ru/Lists/1k_Rating/list_68acc7a9-eac6-4726-b4df-ade7888e212b.html\",\n",
    "    \"02.03.01_5189\": \"https://cabinet.spbu.ru/Lists/1k_Rating/list_5280d407-3a61-43c8-84a8-48818ec97282.html\",\n",
    "    \"02.03.02_5003\": \"https://cabinet.spbu.ru/Lists/1k_Rating/list_3bffd628-b6f7-479f-8386-ebba3f2ab5c1.html\",\n",
    "    \"02.03.02_5190\": \"https://cabinet.spbu.ru/Lists/1k_Rating/list_92b01d04-a9c2-4fee-950d-bd3896abf4c4.html\",\n",
    "    \"02.03.02_5162\": \"https://cabinet.spbu.ru/Lists/1k_Rating/list_c91f57a1-c31a-427a-8f57-e41bdb877a80.html\",\n",
    "    \"03.03.00\": \"https://cabinet.spbu.ru/Lists/1k_Rating/list_ad180a85-bc09-41ea-9ec3-4125dd9672d4.html\",\n",
    "    \"03.03.01_5009\": \"https://cabinet.spbu.ru/Lists/1k_Rating/list_dd2ad806-d66e-43ab-bb86-dfa59f6c612e.html\",\n",
    "    \"03.03.01_5112\": \"https://cabinet.spbu.ru/Lists/1k_Rating/list_6349d0e3-13f3-4901-adfb-2bd9ead19134.html\",\n",
    "    \"09.03.03_5078\": \"https://cabinet.spbu.ru/Lists/1k_Rating/list_c3e7f0d7-b891-4fb4-aa80-ca909a53b74b.html\",\n",
    "    \"09.03.04_5080\": \"https://cabinet.spbu.ru/Lists/1k_Rating/list_73b489e3-e98f-4193-bfc7-160a9ded4532.html\"\n",
    "}"
   ]
  },
  {
   "cell_type": "code",
   "execution_count": null,
   "id": "genuine-tonight",
   "metadata": {},
   "outputs": [],
   "source": [
    "spbu_spec = {}\n",
    "for spec in spbu_dict:\n",
    "    try:\n",
    "        read_html = pd.read_html(spbu_dict[spec])\n",
    "        spbu_spec[spec] = read_html[0]\n",
    "        spbu_spec[spec][\"СПбГУ\"] = spec\n",
    "    except Exception as e:\n",
    "       print(\"пропустили\", spbu_dict[spec], \"-\", e)\n",
    "# len(spbu_spec)"
   ]
  },
  {
   "cell_type": "code",
   "execution_count": null,
   "id": "executive-patent",
   "metadata": {},
   "outputs": [],
   "source": [
    "spbu_originals = []\n",
    "i = 0\n",
    "for spec in spbu_spec:\n",
    "    spbu_originals.append(spbu_spec[spec][spbu_spec[spec][\"Оригиналы\"] == \"Да\"])\n",
    "    spbu_originals[i] = spbu_originals[i].reset_index(drop=True)\n",
    "# len(spbu_originals)"
   ]
  },
  {
   "cell_type": "code",
   "execution_count": null,
   "id": "failing-harvey",
   "metadata": {},
   "outputs": [],
   "source": [
    "spbu = pd.DataFrame({})\n",
    "for i in spbu_originals:\n",
    "    spbu = pd.concat([spbu,i], ignore_index= True, sort=False)\n",
    "spbu = spbu.drop_duplicates()\n",
    "spbu = spbu.reset_index(drop=True)\n",
    "len(spbu)"
   ]
  },
  {
   "cell_type": "markdown",
   "id": "liquid-slovenia",
   "metadata": {},
   "source": [
    "Добавляем в нашу табличку данные об оригиналах в других вузах"
   ]
  },
  {
   "cell_type": "code",
   "execution_count": null,
   "id": "vulnerable-affair",
   "metadata": {},
   "outputs": [],
   "source": [
    "df_concurs_plus = pd.merge(left=df_concurs, \n",
    "                           right=hse[[\"СНИЛС / Уникальный идентификатор\", \"ВШЭ\"]], \n",
    "                           how=\"left\", \n",
    "                           left_on=\"СНИЛС /\\rРег. номер\", \n",
    "                           right_on=\"СНИЛС / Уникальный идентификатор\")\n",
    "df_concurs_plus.drop(columns = [\"СНИЛС / Уникальный идентификатор\"], axis = 1, inplace=True)\n",
    "df_concurs_plus = pd.merge(left=df_concurs_plus, \n",
    "                           right=mephi[[\"СНИЛС / № дела\", \"МИФИ\"]], \n",
    "                           how=\"left\", \n",
    "                           left_on=\"СНИЛС /\\rРег. номер\", \n",
    "                           right_on=\"СНИЛС / № дела\")\n",
    "df_concurs_plus.drop(columns = [\"СНИЛС / № дела\"], axis = 1, inplace=True)\n",
    "df_concurs_plus = pd.merge(left=df_concurs_plus, \n",
    "                           right=mipt[[\"СНИЛС / ИНД №\", \"МФТИ\"]], \n",
    "                           how=\"left\", \n",
    "                           left_on=\"СНИЛС /\\rРег. номер\", \n",
    "                           right_on=\"СНИЛС / ИНД №\")\n",
    "df_concurs_plus.drop(columns = [\"СНИЛС / ИНД №\"], axis = 1, inplace=True)\n",
    "df_concurs_plus = pd.merge(left=df_concurs_plus, \n",
    "                           right=mai[[\"СНИЛС/УКП\", \"МАИ\"]], \n",
    "                           how=\"left\", \n",
    "                           left_on=\"СНИЛС /\\rРег. номер\", \n",
    "                           right_on=\"СНИЛС/УКП\")\n",
    "df_concurs_plus.drop(columns = [\"СНИЛС/УКП\"], axis = 1, inplace=True)\n",
    "df_concurs_plus = pd.merge(left=df_concurs_plus, \n",
    "                           right=mpei[[\"СНИЛС или Рег.номер\", \"МЭИ\"]], \n",
    "                           how=\"left\", \n",
    "                           left_on=\"СНИЛС /\\rРег. номер\", \n",
    "                           right_on=\"СНИЛС или Рег.номер\")\n",
    "df_concurs_plus.drop(columns = [\"СНИЛС или Рег.номер\"], axis = 1, inplace=True)\n",
    "df_concurs_plus = pd.merge(left=df_concurs_plus, \n",
    "                           right=misis[[\"СНИЛС\", \"МИСиС\"]], \n",
    "                           how=\"left\", \n",
    "                           left_on=\"СНИЛС /\\rРег. номер\", \n",
    "                           right_on=\"СНИЛС\")\n",
    "df_concurs_plus.drop(columns = [\"СНИЛС\"], axis = 1, inplace=True)\n",
    "df_concurs_plus = pd.merge(left=df_concurs_plus, \n",
    "                           right=mirea[[\"СНИЛС/уникальный номер\", \"МИРЭА\"]], \n",
    "                           how=\"left\", \n",
    "                           left_on=\"СНИЛС /\\rРег. номер\", \n",
    "                           right_on=\"СНИЛС/уникальный номер\")\n",
    "df_concurs_plus.drop(columns = [\"СНИЛС/уникальный номер\"], axis = 1, inplace=True)\n",
    "df_concurs_plus = pd.merge(left=df_concurs_plus, \n",
    "                           right=rea[[\"СНИЛС\", \"РЭУ\"]], \n",
    "                           how=\"left\", \n",
    "                           left_on=\"СНИЛС /\\rРег. номер\", \n",
    "                           right_on=\"СНИЛС\")\n",
    "df_concurs_plus.drop(columns = [\"СНИЛС\"], axis = 1, inplace=True)\n",
    "df_concurs_plus = pd.merge(left=df_concurs_plus, \n",
    "                           right=miigaik[[\"Код\", \"МИИГАиК\"]], \n",
    "                           how=\"left\", \n",
    "                           left_on=\"СНИЛС /\\rРег. номер\", \n",
    "                           right_on=\"Код\")\n",
    "df_concurs_plus.drop(columns = [\"Код\"], axis = 1, inplace=True)\n",
    "df_concurs_plus = df_concurs_plus.fillna(\"\")\n",
    "# df_concurs_plus"
   ]
  },
  {
   "cell_type": "code",
   "execution_count": null,
   "id": "widespread-practice",
   "metadata": {},
   "outputs": [],
   "source": [
    "df_concurs_plus[\"Оригинал в другом вузе\"] = np.where(\n",
    "    df_concurs_plus[\"Ориг.\"] == \"Да\", \n",
    "    \"Нет\",\n",
    "    np.where(\n",
    "        ((df_concurs_plus[\"ВШЭ\"] != \"\") | (df_concurs_plus[\"МИФИ\"] != \"\")\n",
    "        | (df_concurs_plus[\"МФТИ\"] != \"\") | (df_concurs_plus[\"МАИ\"] != \"\")\n",
    "        | (df_concurs_plus[\"МЭИ\"] != \"\") | (df_concurs_plus[\"МИСиС\"] != \"\")\n",
    "        | (df_concurs_plus[\"МИРЭА\"] != \"\") | (df_concurs_plus[\"РЭУ\"] != \"\") \n",
    "        | (df_concurs_plus[\"МИИГАиК\"] != \"\") \n",
    "        ), \n",
    "        \"Да\",\n",
    "        \"Не нашли\"\n",
    "    )\n",
    ")\n",
    "df_concurs_plus"
   ]
  },
  {
   "cell_type": "code",
   "execution_count": null,
   "id": "pharmaceutical-ordering",
   "metadata": {},
   "outputs": [],
   "source": [
    "df_concurs_plus.to_excel(path + \"конкурс\" + Person + \".xlsx\", index = False)"
   ]
  },
  {
   "cell_type": "code",
   "execution_count": null,
   "id": "artificial-appraisal",
   "metadata": {
    "scrolled": false
   },
   "outputs": [],
   "source": [
    "len(df_concurs_plus[df_concurs_plus[\"Оригинал в другом вузе\"] == \"Да\"])"
   ]
  }
 ],
 "metadata": {
  "kernelspec": {
   "display_name": "Python 3 (ipykernel)",
   "language": "python",
   "name": "python3"
  },
  "language_info": {
   "codemirror_mode": {
    "name": "ipython",
    "version": 3
   },
   "file_extension": ".py",
   "mimetype": "text/x-python",
   "name": "python",
   "nbconvert_exporter": "python",
   "pygments_lexer": "ipython3",
   "version": "3.10.9"
  }
 },
 "nbformat": 4,
 "nbformat_minor": 5
}
