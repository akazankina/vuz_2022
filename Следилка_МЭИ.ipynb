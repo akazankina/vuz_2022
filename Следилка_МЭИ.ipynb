{
 "cells": [
  {
   "cell_type": "markdown",
   "id": "authentic-ozone",
   "metadata": {},
   "source": [
    "### МЭИ, места в ранжированных списках"
   ]
  },
  {
   "cell_type": "code",
   "execution_count": 1,
   "id": "directed-tourist",
   "metadata": {},
   "outputs": [],
   "source": [
    "import pandas as pd"
   ]
  },
  {
   "cell_type": "code",
   "execution_count": 2,
   "id": "existing-zambia",
   "metadata": {},
   "outputs": [],
   "source": [
    "mpei_dict = {\n",
    "    \"09.03.01\": \"https://pk.mpei.ru/inform/list14bacc.html\",\n",
    "#     \"09.03.03\": \"https://pk.mpei.ru/inform/list35bacc.html\",\n",
    "    \"10.03.01\": \"https://pk.mpei.ru/inform/list22bacc.html\",\n",
    "}"
   ]
  },
  {
   "cell_type": "code",
   "execution_count": 3,
   "id": "liquid-outreach",
   "metadata": {},
   "outputs": [],
   "source": [
    "Who = {\n",
    "    \"09.03.01\": \"Артем\",\n",
    "#     \"09.03.03\": \"Артем\",\n",
    "    \"10.03.01\": \"Артем\",\n",
    "}\n",
    "Docs = {\n",
    "    \"09.03.01\": \"СНИЛС: 11111111111\",\n",
    "#     \"09.03.03\": \"СНИЛС: 11111111111\",\n",
    "    \"10.03.01\": \"СНИЛС: 11111111111\",\n",
    "}\n",
    "mpei_places = {\n",
    "    \"09.03.01\": 157,\n",
    "#     \"09.03.03\": 27,\n",
    "    \"10.03.01\": 36,\n",
    "}"
   ]
  },
  {
   "cell_type": "code",
   "execution_count": 4,
   "id": "friendly-hours",
   "metadata": {},
   "outputs": [
    {
     "name": "stdout",
     "output_type": "stream",
     "text": [
      "Артем, 09.03.01: \n",
      "-\u001b[1m\u001b[34m140\u001b[0m из 157 \n",
      "-балл предыдущего 247 \n",
      "-всего согласий 225 \n",
      "-проходной балл 244\n",
      "Артем, 10.03.01: \n",
      "-\u001b[1m\u001b[34m38\u001b[0m из 36 \n",
      "-балл предыдущего 250 \n",
      "-всего согласий 66 \n",
      "-проходной балл 250\n"
     ]
    }
   ],
   "source": [
    "mpei_spec = {}\n",
    "mpei_originals = {}\n",
    "mpei_agree = {}\n",
    "count_agree = {}\n",
    "mark_pass = {}\n",
    "for spec in mpei_dict:\n",
    "    try:\n",
    "        read_html = pd.read_html(mpei_dict[spec])\n",
    "        if len(read_html) == 2:\n",
    "            mpei_spec[spec] = pd.concat([read_html[0], read_html[1]], sort=False)\n",
    "        else:\n",
    "            mpei_spec[spec] = read_html[0]\n",
    "        mpei_spec[spec].columns = mpei_spec[spec].iloc[1]\n",
    "        mpei_spec[spec] = mpei_spec[spec][2:]\n",
    "        mpei_spec[spec] = mpei_spec[spec]\n",
    "        mpei_agree[spec] = mpei_spec[spec][mpei_spec[spec][\"Согласие\"] == \"подано\"]\n",
    "        count_agree[spec] = len(mpei_agree[spec])\n",
    "        place_pass_row = mpei_agree[spec].iloc[min(mpei_places[spec]-1, len(mpei_agree[spec])-1)]\n",
    "        mark_pass[spec] = place_pass_row[\"Сумма\"]\n",
    "        our_place = mpei_spec[spec][mpei_spec[spec][\"СНИЛС или Рег.номер\"] == Docs[spec]].index[0] + 1\n",
    "#         print(mpei_spec[spec][mpei_spec[spec][\"СНИЛС или Рег.номер\"] == Docs[spec]])\n",
    "        mpei_spec[spec] = mpei_spec[spec][:our_place]\n",
    "        mpei_agree[spec] = mpei_spec[spec][mpei_spec[spec][\"Согласие\"] == \"подано\"]\n",
    "        mpei_agree[spec] = mpei_agree[spec].reset_index(drop=True)\n",
    "        print(\n",
    "            Who[spec] + \", \" + spec + \": \\n-\\033[1m\\033[34m\" \n",
    "            + str(len(mpei_agree[spec]) + 1)\n",
    "            + \"\\033[0m из \" + str(mpei_places[spec])\n",
    "            + \" \\n-балл предыдущего \" + str(mpei_agree[spec].iloc[len(mpei_agree[spec]) - 1][\"Сумма\"])\n",
    "            + \" \\n-всего согласий \" + str(count_agree[spec])\n",
    "            + \" \\n-проходной балл \" + str(mark_pass[spec])\n",
    "        )\n",
    "    except Exception as e:\n",
    "#         print(mpei_spec[spec][mpei_spec[spec][\"СНИЛС или Рег.номер\"] == Docs[spec]])\n",
    "       print(\"пропустили\", mpei_dict[spec], \"-\", e)\n",
    "    \n",
    "# len(mpei_spec)\n",
    "# mpei_agree[\"09.03.01\"]"
   ]
  }
 ],
 "metadata": {
  "kernelspec": {
   "display_name": "Python 3 (ipykernel)",
   "language": "python",
   "name": "python3"
  },
  "language_info": {
   "codemirror_mode": {
    "name": "ipython",
    "version": 3
   },
   "file_extension": ".py",
   "mimetype": "text/x-python",
   "name": "python",
   "nbconvert_exporter": "python",
   "pygments_lexer": "ipython3",
   "version": "3.10.9"
  }
 },
 "nbformat": 4,
 "nbformat_minor": 5
}
