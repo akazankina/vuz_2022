{
 "cells": [
  {
   "cell_type": "markdown",
   "id": "framed-locator",
   "metadata": {},
   "source": [
    "### Маша, МГУ, места в ранжированных списках"
   ]
  },
  {
   "cell_type": "code",
   "execution_count": 1,
   "id": "minimal-giving",
   "metadata": {},
   "outputs": [],
   "source": [
    "import pandas as pd"
   ]
  },
  {
   "cell_type": "code",
   "execution_count": 2,
   "id": "center-hierarchy",
   "metadata": {},
   "outputs": [
    {
     "data": {
      "text/plain": [
       "22"
      ]
     },
     "execution_count": 2,
     "metadata": {},
     "output_type": "execute_result"
    }
   ],
   "source": [
    "math_link = \"https://cpk.msu.ru/rating/dep_01\"\n",
    "read_math = pd.read_html(math_link)\n",
    "len(read_math)"
   ]
  },
  {
   "cell_type": "code",
   "execution_count": 3,
   "id": "assisted-sewing",
   "metadata": {},
   "outputs": [],
   "source": [
    "concurs_arr = [[7, 187], [12, 75], [17, 18]]"
   ]
  },
  {
   "cell_type": "code",
   "execution_count": 4,
   "id": "special-convention",
   "metadata": {
    "scrolled": false
   },
   "outputs": [
    {
     "name": "stdout",
     "output_type": "stream",
     "text": [
      "Мехмат 1: \n",
      "-256 из 187 \n",
      "-балл предыдущего 295 \n",
      "-всего согласий 263 \n",
      "-проходной балл 340\n",
      "Мехмат 2: \n",
      "-111 из 75 \n",
      "-балл предыдущего 293 \n",
      "-всего согласий 116 \n",
      "-проходной балл 323\n",
      "Мехмат 3: \n",
      "-25 из 18 \n",
      "-балл предыдущего 346 \n",
      "-всего согласий 25 \n",
      "-проходной балл 364\n"
     ]
    }
   ],
   "source": [
    "i = 1\n",
    "for concurs_table in concurs_arr:\n",
    "    concurs_math = read_math[concurs_table[0]]\n",
    "    concurs_math = concurs_math.fillna(0)\n",
    "    place_max_row = concurs_math[concurs_math[\"Согласие:1: Наличие согласия2: Порядковый номер среди подавших согласие3: Согласие в МГУ.1\"].astype(int) \n",
    "                            == max(concurs_math[\"Согласие:1: Наличие согласия2: Порядковый номер среди подавших согласие3: Согласие в МГУ.1\"].astype(int))\n",
    "                                ].index.values[0]\n",
    "    place_max = concurs_math.iloc[place_max_row][\"Согласие:1: Наличие согласия2: Порядковый номер среди подавших согласие3: Согласие в МГУ.1\"].astype(int)\n",
    "    mark_max = concurs_math.iloc[place_max_row][\"Сумма баллов\"].astype(int)\n",
    "    place_pass_row = concurs_math[concurs_math[\"Согласие:1: Наличие согласия2: Порядковый номер среди подавших согласие3: Согласие в МГУ.1\"].astype(int) \n",
    "                            == concurs_table[1]\n",
    "                                ].index.values[0]\n",
    "    mark_pass = concurs_math.iloc[place_pass_row][\"Сумма баллов\"].astype(int)\n",
    "    row_num = concurs_math[(concurs_math[\"ID конкурсного заявления\"] - 29668) % 100000 == 0].index[0]\n",
    "    concurs_math = concurs_math[:row_num]\n",
    "    num_prev = concurs_math[\n",
    "        concurs_math[\"Согласие:1: Наличие согласия2: Порядковый номер среди подавших согласие3: Согласие в МГУ.1\"].astype(int) \n",
    "        == max(concurs_math[\"Согласие:1: Наличие согласия2: Порядковый номер среди подавших согласие3: Согласие в МГУ.1\"].astype(int))\n",
    "    ].index.values[0]\n",
    "    place_prev = concurs_math.iloc[num_prev][\"Согласие:1: Наличие согласия2: Порядковый номер среди подавших согласие3: Согласие в МГУ.1\"].astype(int) + 1\n",
    "    mark_prev = concurs_math.iloc[num_prev][\"Сумма баллов\"].astype(str)\n",
    "    print(\n",
    "        \"Мехмат \" + str(i) + \": \\n-\" + str(place_prev) + \" из \" + str(concurs_table[1]) \n",
    "        + \" \\n-балл предыдущего \" + mark_prev\n",
    "        + \" \\n-всего согласий \" + str(place_max)\n",
    "        + \" \\n-проходной балл \" + str(mark_pass)\n",
    "    )\n",
    "    i += 1"
   ]
  },
  {
   "cell_type": "code",
   "execution_count": 5,
   "id": "toxic-black",
   "metadata": {},
   "outputs": [
    {
     "data": {
      "text/plain": [
       "9"
      ]
     },
     "execution_count": 5,
     "metadata": {},
     "output_type": "execute_result"
    }
   ],
   "source": [
    "geo_link = \"https://cpk.msu.ru/rating/dep_07\"\n",
    "read_geo = pd.read_html(geo_link)\n",
    "len(read_geo)"
   ]
  },
  {
   "cell_type": "code",
   "execution_count": 6,
   "id": "offensive-halifax",
   "metadata": {},
   "outputs": [
    {
     "name": "stdout",
     "output_type": "stream",
     "text": [
      "Геология: \n",
      "-80 из 141 \n",
      "-балл предыдущего 294 \n",
      "-всего согласий 189 \n",
      "-проходной балл 269\n"
     ]
    }
   ],
   "source": [
    "concurs_geo = read_geo[6]\n",
    "concurs_geo = concurs_geo.fillna(0)\n",
    "place_max_row = concurs_geo[concurs_geo[\"Согласие:1: Наличие согласия2: Порядковый номер среди подавших согласие3: Согласие в МГУ.1\"].astype(int) \n",
    "                        == max(concurs_geo[\"Согласие:1: Наличие согласия2: Порядковый номер среди подавших согласие3: Согласие в МГУ.1\"].astype(int))\n",
    "                            ].index.values[0]\n",
    "place_max = concurs_geo.iloc[place_max_row][\"Согласие:1: Наличие согласия2: Порядковый номер среди подавших согласие3: Согласие в МГУ.1\"].astype(int)\n",
    "place_pass_row = concurs_geo[concurs_geo[\"Согласие:1: Наличие согласия2: Порядковый номер среди подавших согласие3: Согласие в МГУ.1\"].astype(int) \n",
    "                        == 141\n",
    "                            ].index.values[0]\n",
    "mark_pass = concurs_geo.iloc[place_pass_row][\"Сумма баллов\"].astype(int)\n",
    "row_num = concurs_geo[(concurs_geo[\"ID конкурсного заявления\"] - 29668) % 100000 == 0].index[0]\n",
    "concurs_geo = concurs_geo[:row_num]\n",
    "num_prev = concurs_geo[\n",
    "    concurs_geo[\"Согласие:1: Наличие согласия2: Порядковый номер среди подавших согласие3: Согласие в МГУ.1\"].astype(int) \n",
    "    == max(concurs_geo[\"Согласие:1: Наличие согласия2: Порядковый номер среди подавших согласие3: Согласие в МГУ.1\"].astype(int))\n",
    "].index.values[0]\n",
    "place_prev = concurs_geo.iloc[num_prev][\"Согласие:1: Наличие согласия2: Порядковый номер среди подавших согласие3: Согласие в МГУ.1\"].astype(int) + 1\n",
    "mark_prev = concurs_geo.iloc[num_prev][\"Сумма баллов\"].astype(str)\n",
    "print(\n",
    "    \"Геология\" + \": \\n-\" + str(place_prev) + \" из 141\" \n",
    "    + \" \\n-балл предыдущего \" + mark_prev\n",
    "    + \" \\n-всего согласий \" + str(place_max)\n",
    "    + \" \\n-проходной балл \" + str(mark_pass)\n",
    ")"
   ]
  }
 ],
 "metadata": {
  "kernelspec": {
   "display_name": "Python 3 (ipykernel)",
   "language": "python",
   "name": "python3"
  },
  "language_info": {
   "codemirror_mode": {
    "name": "ipython",
    "version": 3
   },
   "file_extension": ".py",
   "mimetype": "text/x-python",
   "name": "python",
   "nbconvert_exporter": "python",
   "pygments_lexer": "ipython3",
   "version": "3.10.9"
  }
 },
 "nbformat": 4,
 "nbformat_minor": 5
}
