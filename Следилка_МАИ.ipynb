{
 "cells": [
  {
   "cell_type": "markdown",
   "id": "authentic-ozone",
   "metadata": {},
   "source": [
    "### Маша, МАИ, места в ранжированных списках"
   ]
  },
  {
   "cell_type": "code",
   "execution_count": 1,
   "id": "dense-brake",
   "metadata": {},
   "outputs": [],
   "source": [
    "import pandas as pd\n",
    "import numpy as np"
   ]
  },
  {
   "cell_type": "code",
   "execution_count": 2,
   "id": "wireless-nomination",
   "metadata": {},
   "outputs": [],
   "source": [
    "path = \"C:\\\\Users\\\\Ally\\\\Desktop\\\\Маша\\\\\""
   ]
  },
  {
   "cell_type": "code",
   "execution_count": 3,
   "id": "existing-zambia",
   "metadata": {},
   "outputs": [],
   "source": [
    "mai_dict = {\n",
    "    \"09.03.01\": path + \"МАИ 09.03.01.xlsx\",\n",
    "    \"09.03.02\": path + \"МАИ 09.03.02.xlsx\",\n",
    "    \"10.03.01\": path + \"МАИ 10.03.01.xlsx\",\n",
    "    \"01.03.00\": path + \"МАИ 01.03.00.xlsx\",\n",
    "    \"12.03.04\": path + \"МАИ 12.03.04.xlsx\",\n",
    "    \"22.03.00\": path + \"МАИ 22.03.00.xlsx\",\n",
    "}"
   ]
  },
  {
   "cell_type": "code",
   "execution_count": 4,
   "id": "smooth-fever",
   "metadata": {},
   "outputs": [],
   "source": [
    "Who = {\n",
    "    \"09.03.01\": \"Артем\",\n",
    "    \"09.03.02\": \"Артем\",\n",
    "    \"10.03.01\": \"Артем\",\n",
    "    \"01.03.00\": \"Маша\",\n",
    "    \"12.03.04\": \"Маша\",\n",
    "    \"22.03.00\": \"Маша\",\n",
    "}\n",
    "Docs = {\n",
    "    \"09.03.01\": \"111-111-111 11\",\n",
    "    \"09.03.02\": \"111-111-111 11\",\n",
    "    \"10.03.01\": \"111-111-111 11\",\n",
    "    \"01.03.00\": \"222-222-222 22\",\n",
    "    \"12.03.04\": \"222-222-222 22\",\n",
    "    \"22.03.00\": \"222-222-222 22\",\n",
    "}\n",
    "mai_places = {\n",
    "    \"09.03.01\": 132,\n",
    "    \"09.03.02\": 41,\n",
    "    \"10.03.01\": 37,\n",
    "    \"01.03.00\": 216,\n",
    "    \"12.03.04\": 110,\n",
    "    \"22.03.00\": 46,\n",
    "}"
   ]
  },
  {
   "cell_type": "code",
   "execution_count": 5,
   "id": "friendly-hours",
   "metadata": {},
   "outputs": [
    {
     "name": "stdout",
     "output_type": "stream",
     "text": [
      "Артем, 09.03.01: \n",
      "-\u001b[1m\u001b[34m89\u001b[0m из 132 \n",
      "-балл предыдущего 247 \n",
      "-всего согласий 143 \n",
      "-проходной балл 224\n",
      "Артем, 09.03.02: \n",
      "-\u001b[1m\u001b[34m30\u001b[0m из 41 \n",
      "-балл предыдущего 247 \n",
      "-всего согласий 38 \n",
      "-проходной балл 195\n",
      "Артем, 10.03.01: \n",
      "-\u001b[1m\u001b[34m13\u001b[0m из 37 \n",
      "-балл предыдущего 247 \n",
      "-всего согласий 34 \n",
      "-проходной балл 205\n",
      "Маша, 01.03.00: \n",
      "-\u001b[1m\u001b[34m209\u001b[0m из 216 \n",
      "-балл предыдущего 234 \n",
      "-всего согласий 223 \n",
      "-проходной балл 223\n",
      "Маша, 12.03.04: \n",
      "-\u001b[1m\u001b[34m38\u001b[0m из 110 \n",
      "-балл предыдущего 232 \n",
      "-всего согласий 65 \n",
      "-проходной балл 187\n",
      "Маша, 22.03.00: \n",
      "-\u001b[1m\u001b[34m6\u001b[0m из 46 \n",
      "-балл предыдущего 233 \n",
      "-всего согласий 45 \n",
      "-проходной балл 168\n"
     ]
    }
   ],
   "source": [
    "mai_spec = {}\n",
    "mai_originals = {}\n",
    "mai_agree = {}\n",
    "count_agree = {}\n",
    "mark_pass = {}\n",
    "for spec in mai_dict:\n",
    "    try:\n",
    "        mai_spec[spec] = pd.read_excel(mai_dict[spec])\n",
    "#         mai_spec[spec] = mai_spec[spec].fillna(0)\n",
    "        mai_spec[spec][\"МАИ\"] = spec\n",
    "        mai_originals[spec] =  mai_spec[spec].loc[ mai_spec[spec][\"Подлинник или копия документа об образовании\"].str.contains(\"Подлинник\", case=False)]\n",
    "        mai_agree[spec] = mai_originals[spec][mai_originals[spec][\"Согласие на зачисление\"] == \"✓\"]\n",
    "        count_agree[spec] = len(mai_agree[spec])\n",
    "        place_pass_row = mai_agree[spec].iloc[min(mai_places[spec]-1, len(mai_agree[spec])-1)]\n",
    "        mark_pass[spec] = place_pass_row[\"Сумма конкурсных баллов\"].astype(int)\n",
    "        our_place = mai_spec[spec][mai_spec[spec][\"СНИЛС/УКП\"] == Docs[spec]].index[0] + 1\n",
    "#         print(our_place)\n",
    "        mai_spec[spec] = mai_spec[spec][:our_place]\n",
    "        mai_originals[spec] =  mai_spec[spec].loc[ mai_spec[spec][\"Подлинник или копия документа об образовании\"].str.contains(\"Подлинник\", case=False)]\n",
    "        mai_agree[spec] = mai_originals[spec][mai_originals[spec][\"Согласие на зачисление\"] == \"✓\"]\n",
    "        mai_agree[spec] = mai_agree[spec].reset_index(drop=True)\n",
    "        print(\n",
    "            Who[spec] + \", \" + spec + \": \\n-\\033[1m\\033[34m\" \n",
    "            + str(len(mai_agree[spec]) + 1)\n",
    "            + \"\\033[0m из \" + str(mai_places[spec])\n",
    "            + \" \\n-балл предыдущего \" + str(mai_agree[spec].iloc[len(mai_agree[spec]) - 1][\"Сумма конкурсных баллов\"].astype(int))\n",
    "            + \" \\n-всего согласий \" + str(count_agree[spec])\n",
    "            + \" \\n-проходной балл \" + str(mark_pass[spec])\n",
    "        )\n",
    "    except Exception as e:\n",
    "       print(\"пропустили\", mai_dict[spec], \"-\", e)\n",
    "# len(mai_spec)\n",
    "# mai_agree[\"12.03.04\"]"
   ]
  }
 ],
 "metadata": {
  "kernelspec": {
   "display_name": "Python 3 (ipykernel)",
   "language": "python",
   "name": "python3"
  },
  "language_info": {
   "codemirror_mode": {
    "name": "ipython",
    "version": 3
   },
   "file_extension": ".py",
   "mimetype": "text/x-python",
   "name": "python",
   "nbconvert_exporter": "python",
   "pygments_lexer": "ipython3",
   "version": "3.10.9"
  }
 },
 "nbformat": 4,
 "nbformat_minor": 5
}
